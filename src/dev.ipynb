{
 "cells": [
  {
   "cell_type": "code",
   "execution_count": 1,
   "metadata": {},
   "outputs": [
    {
     "data": {
      "text/plain": [
       "ObjectApiResponse({'name': 'ubuntu', 'cluster_name': 'elasticsearch', 'cluster_uuid': 'G7JzeSt3Q5OoTS6zBdAaWQ', 'version': {'number': '8.4.1', 'build_flavor': 'default', 'build_type': 'tar', 'build_hash': '2bd229c8e56650b42e40992322a76e7914258f0c', 'build_date': '2022-08-26T12:11:43.232597118Z', 'build_snapshot': False, 'lucene_version': '9.3.0', 'minimum_wire_compatibility_version': '7.17.0', 'minimum_index_compatibility_version': '7.0.0'}, 'tagline': 'You Know, for Search'})"
      ]
     },
     "execution_count": 1,
     "metadata": {},
     "output_type": "execute_result"
    }
   ],
   "source": [
    "import re\n",
    "import os\n",
    "import json\n",
    "import numpy as np\n",
    "from tqdm import tqdm\n",
    "from elasticsearch import Elasticsearch\n",
    "from elasticsearch.helpers import bulk\n",
    "from utils.encode import GenericPLMEncoder\n",
    "\n",
    "# Create the elastic instance\n",
    "elastic = Elasticsearch(\n",
    "    \"http://localhost:9200\",\n",
    "    request_timeout=1000000\n",
    ")\n",
    "\n",
    "# Successful response!\n",
    "elastic.info()"
   ]
  },
  {
   "cell_type": "code",
   "execution_count": null,
   "metadata": {},
   "outputs": [],
   "source": [
    "emb = np.random.rand(768).astype(np.float32)\n",
    "\n",
    "resp = elastic.search(\n",
    "    index=\"case\",\n",
    "    size=2,\n",
    "    from_=0,\n",
    "    _source=True,\n",
    "    fields=[\"case_name\", \"content\", {\"field\": \"publish_date\", \"format\": \"year_month_day\"}, \"court_name\", \"case_type\", \"id\", \"legal_base\", \"pub_prosecution_org\"],\n",
    "    query={\n",
    "        # \"match\": {\n",
    "        #     \"content\": \"2016年2月26日，原告的员工郑洲招用被告到原告工地做工，并签订劳动合同。被告工作的时间是2016年2月26日至2016年9月21日。2016年9月26日，被告与原告决算，拿工钱离开。被告在工作期间由郑洲管理。\",\n",
    "        # },\n",
    "        # \"match_phrase\": {\n",
    "        #     \"case_name\": \"彭绍波与陈忠远民间借贷纠纷一审民事判决书\",\n",
    "        # },\n",
    "        \"combined_fields\": {\n",
    "            \"query\": \"借贷\",\n",
    "            \"fields\": [\"case_name\", \"content\"],\n",
    "        },\n",
    "        # \"multi_match\" : {\n",
    "        #     \"query\": \"打了一个借条\",\n",
    "        #     \"type\": \"phrase\",\n",
    "        #     \"fields\": [\"case_name\", \"content\"]\n",
    "        # },\n",
    "        # \"script_score\": {\n",
    "        #     \"query\": {\n",
    "        #         \"match\": {\n",
    "        #             \"content\": \"2016年2月26日，原告的员工郑洲招用被告到原告工地做工，并签订劳动合同。被告工作的时间是2016年2月26日至2016年9月21日。2016年9月26日，被告与原告决算，拿工钱离开。被告在工作期间由郑洲管理。\"\n",
    "        #         }\n",
    "        #     },\n",
    "        #     \"script\": {\n",
    "        #         # \"source\": \"_score\"\n",
    "        #         \"source\": \"doc['vector'].size() == 0 ? 0 : dotProduct(params.queryVector, 'vector') + 1\",\n",
    "        #         \"params\": {\n",
    "        #             \"queryVector\": a\n",
    "        #         }\n",
    "        #     },\n",
    "        # },\n",
    "    },\n",
    "    # knn={\n",
    "    #     \"field\": \"vector\",\n",
    "    #     \"query_vector\": (emb / np.linalg.norm(emb)).tolist(),\n",
    "    #     \"k\": 10,\n",
    "    #     \"num_candidates\": 10,\n",
    "    #     # \"boost\": 1\n",
    "    # },\n",
    "    # aggs={\n",
    "    #     \"agg-court\": {\n",
    "    #         \"terms\": {\n",
    "    #             \"field\": \"legal_base\"\n",
    "    #         }\n",
    "    #     }\n",
    "    # },\n",
    "    # highlight={\n",
    "    #     \"fields\": {\n",
    "    #         \"content\": {\n",
    "    #             \"pre_tags\" : [\"<strong>\"],\n",
    "    #             \"post_tags\": [\"</strong>\"],\n",
    "    #             \"number_of_fragments\": 1,\n",
    "    #         }\n",
    "    #     }\n",
    "    # },\n",
    "    # post_filter={\n",
    "    #     \"bool\": {\n",
    "    #         \"filter\": [\n",
    "    #             {\n",
    "    #                 \"terms\": {\"legal_base\": [\"《中华人民共和国合同法》第二百零六条\"]}\n",
    "    #             }\n",
    "    #         ]\n",
    "    #     }\n",
    "    # }\n",
    ")"
   ]
  },
  {
   "cell_type": "code",
   "execution_count": null,
   "metadata": {},
   "outputs": [],
   "source": [
    "a = elastic.get(index=\"test\", id=\"hpCUWoQB1-2U-nhAcL7L\")"
   ]
  },
  {
   "cell_type": "code",
   "execution_count": 3,
   "metadata": {},
   "outputs": [
    {
     "data": {
      "text/plain": [
       "ObjectApiResponse({'acknowledged': True, 'shards_acknowledged': True, 'index': 'case'})"
      ]
     },
     "execution_count": 3,
     "metadata": {},
     "output_type": "execute_result"
    }
   ],
   "source": [
    "elastic.indices.create(\n",
    "    index=\"case\",\n",
    "    settings={\n",
    "        'analysis': {\n",
    "            'analyzer': {\n",
    "                # we must set the default analyzer\n",
    "                \"default\": {\n",
    "                    \"type\": \"smartcn\"\n",
    "                }\n",
    "            }\n",
    "        },\n",
    "        \"index.mapping.ignore_malformed\": True\n",
    "    },\n",
    "    mappings={\n",
    "        \"properties\": {\n",
    "            # field name\n",
    "            \"collection\": {\n",
    "                \"type\": \"keyword\",\n",
    "            },\n",
    "            \"id\": {\n",
    "                \"type\": \"unsigned_long\",\n",
    "            },\n",
    "            \"court_name\": {\n",
    "                \"type\": \"keyword\",\n",
    "            },\n",
    "            \"court_province\": {\n",
    "                \"type\": \"keyword\",\n",
    "            },\n",
    "            \"court_city\": {\n",
    "                \"type\": \"keyword\",\n",
    "            },\n",
    "            \"court_region\": {\n",
    "                \"type\": \"keyword\",\n",
    "            },\n",
    "            \"court_district\": {\n",
    "                \"type\": \"keyword\"\n",
    "            },\n",
    "            \"pub_prosecution_org\": {\n",
    "                \"type\": \"keyword\"\n",
    "            },\n",
    "            \"case_type\": {\n",
    "                \"type\": \"keyword\",\n",
    "            },\n",
    "            \"cause\": {\n",
    "                \"type\": \"keyword\",\n",
    "            },\n",
    "            \"trial_round\": {\n",
    "                \"type\": \"keyword\"\n",
    "            },\n",
    "            \"content\": {\n",
    "                \"type\": \"text\"\n",
    "            },\n",
    "            \"appellor\": {\n",
    "                \"type\": \"keyword\"\n",
    "            },\n",
    "            \"legal_base\": {\n",
    "                \"type\": \"keyword\"\n",
    "            },\n",
    "            \"lawyer\": {\n",
    "                \"type\": \"keyword\"\n",
    "            },\n",
    "            \"law_firm\": {\n",
    "                \"type\": \"keyword\"\n",
    "            },\n",
    "            \"admin_behavior_type\": {\n",
    "                \"type\": \"keyword\"\n",
    "            },\n",
    "            \"admin_manage_scope\": {\n",
    "                \"type\": \"keyword\"\n",
    "            },\n",
    "            \"effect_level\": {\n",
    "                \"type\": \"keyword\"\n",
    "            },\n",
    "            \"vector\": {\n",
    "                \"type\": \"dense_vector\",\n",
    "                \"dims\": 768,\n",
    "                # enable hnsw\n",
    "                \"index\": True,\n",
    "                # inner product only allows unit-length vector\n",
    "                \"similarity\": \"dot_product\"  \n",
    "            }\n",
    "        }\n",
    "    }\n",
    ")"
   ]
  },
  {
   "cell_type": "code",
   "execution_count": null,
   "metadata": {},
   "outputs": [],
   "source": [
    "elastic.index(index=\"test\", document={\"content\": \"这是为什么捏？我也不知道捏\"}, id=\"shit\")"
   ]
  },
  {
   "cell_type": "code",
   "execution_count": null,
   "metadata": {},
   "outputs": [],
   "source": [
    "elastic.get(index=\"test\", id=\"n--UYIQBP9S5ZJCvVnHk\")"
   ]
  },
  {
   "cell_type": "code",
   "execution_count": 2,
   "metadata": {},
   "outputs": [
    {
     "data": {
      "text/plain": [
       "ObjectApiResponse({'acknowledged': True})"
      ]
     },
     "execution_count": 2,
     "metadata": {},
     "output_type": "execute_result"
    }
   ],
   "source": [
    "# delete index\n",
    "elastic.indices.delete(index=\"case\")"
   ]
  },
  {
   "cell_type": "code",
   "execution_count": 4,
   "metadata": {},
   "outputs": [
    {
     "data": {
      "text/plain": [
       "ObjectApiResponse({'count': 0, '_shards': {'total': 1, 'successful': 1, 'skipped': 0, 'failed': 0}})"
      ]
     },
     "execution_count": 4,
     "metadata": {},
     "output_type": "execute_result"
    }
   ],
   "source": [
    "elastic.count(\n",
    "    index=\"case\",\n",
    "    query={\n",
    "        \"match_all\": {\n",
    "        }\n",
    "    }\n",
    ")"
   ]
  },
  {
   "cell_type": "code",
   "execution_count": null,
   "metadata": {},
   "outputs": [],
   "source": [
    "elastic.indices.get_mapping(index=\"wenshu\")"
   ]
  },
  {
   "cell_type": "code",
   "execution_count": null,
   "metadata": {},
   "outputs": [],
   "source": [
    "elastic.indices.get_alias(index=\"*\")"
   ]
  },
  {
   "cell_type": "code",
   "execution_count": null,
   "metadata": {},
   "outputs": [],
   "source": [
    "elastic.indices.analyze(text=\"知识产权高校\", index=\"case\")"
   ]
  },
  {
   "cell_type": "code",
   "execution_count": null,
   "metadata": {},
   "outputs": [],
   "source": [
    "elastic.delete_by_query(\n",
    "    index=\"wenshu\", \n",
    "    query={\n",
    "        \"match_all\": {}\n",
    "    }\n",
    ")"
   ]
  },
  {
   "cell_type": "code",
   "execution_count": null,
   "metadata": {},
   "outputs": [],
   "source": [
    "import re\n",
    "import json\n",
    "from transformers import AutoModel, AutoTokenizer\n",
    "from utils.encode import GenericPLMEncoder\n",
    "\n",
    "plm = AutoModel.from_pretrained(\"/home/peitian_zhang/Code/Case-Retriever/src/data/model/DPR\")\n",
    "tokenizer = AutoTokenizer.from_pretrained(\"/home/peitian_zhang/Code/Case-Retriever/src/data/model/DPR\")\n",
    "model = GenericPLMEncoder(plm, tokenizer)\n",
    "\n",
    "a = model.encode_single_query(\"\"\"\n",
    "\n",
    "2016年2月26日，原告的员工郑洲招用被告到原告工地做工，并签订劳动合同。被告工作的时间是2016年2月26日至2016年9月21日。2016年9月26日，被告与原告决算，拿工钱离开。被告在工作期间由郑洲管理。\n",
    "庭审中，原告举示借条，该借条主要载明：今收到原告支付中交·锦悦一期二组团三标段工程5#楼（二十层-三十层）木工班组借款，金额5000元。被告在领款人签字处签名，时间为2016年8月26日。借条上有原告公章。被告质证称借条上确实是被告签名，但是出具借条时原告公司没有加盖公章，原告公司的公章是工程结束做决算时，原告在工资中抵扣了该笔款项后加盖的。\n",
    "庭审中，本院向原、被告释明，本案不属于民间借贷或借款合同法律关系，原告与被告存在劳动关系，本案应属劳动争议。原告当庭表示不认可本院的释明，坚持本案属于民间借贷纠纷，仍坚持以民间借贷法律关系提出请求。\n",
    "上述事实，有借条、重庆市江北区人民法院庭审笔录2份以及当事人的陈述等证据在卷佐证，并经庭审质证。\n",
    "\n",
    "\"\"\".replace(\"\\n\", \"\"))"
   ]
  },
  {
   "cell_type": "code",
   "execution_count": null,
   "metadata": {},
   "outputs": [],
   "source": [
    "# elastic.indices.delete(index=\"test\")\n",
    "\n",
    "elastic.indices.create(\n",
    "    index=\"test\",\n",
    "    mappings={\n",
    "        \"properties\": {\n",
    "            # field name\n",
    "            \"x\": {\n",
    "                \"type\": \"text\",\n",
    "            }\n",
    "        }\n",
    "    }\n",
    ")"
   ]
  },
  {
   "cell_type": "code",
   "execution_count": null,
   "metadata": {},
   "outputs": [],
   "source": [
    "for i, x in enumerate(f):\n",
    "    doc = {\n",
    "        \"x\": [f\"{i}\", f\"{i+1}\", f\"{i+2}\"],\n",
    "        \"content\": f\"This is the {i}-th document\"\n",
    "    }\n",
    "    elastic.index(index=\"test\", document=doc)\n",
    "    if i > 10:\n",
    "        break"
   ]
  },
  {
   "cell_type": "code",
   "execution_count": null,
   "metadata": {},
   "outputs": [],
   "source": [
    "resp = elastic.search(\n",
    "    index=\"test\",\n",
    "    size=10,\n",
    "    _source=False,\n",
    "    fields=[\"x\", \"content\"],\n",
    "    query={\n",
    "        # \"bool\": {\n",
    "        #     \"must\": [\n",
    "        #         # {\"term\": {\"content\": \"document\"}},\n",
    "        #         {\"term\": {\"content\": \"this\"}},            \n",
    "        #         {\"term\": {\"content\": \"0\"}},            \n",
    "        #     ],\n",
    "        # },\n",
    "        \"match\": {\n",
    "            \"content\": {\n",
    "                \"query\": \"this is the 0-th\",\n",
    "                \"operator\": \"AND\"\n",
    "            }\n",
    "        }\n",
    "    },\n",
    ")"
   ]
  },
  {
   "cell_type": "code",
   "execution_count": null,
   "metadata": {},
   "outputs": [],
   "source": [
    "resp[\"hits\"]"
   ]
  },
  {
   "cell_type": "code",
   "execution_count": null,
   "metadata": {},
   "outputs": [],
   "source": []
  }
 ],
 "metadata": {
  "kernelspec": {
   "display_name": "Python 3.9.12 64-bit ('anaconda3')",
   "language": "python",
   "name": "python3"
  },
  "language_info": {
   "codemirror_mode": {
    "name": "ipython",
    "version": 3
   },
   "file_extension": ".py",
   "mimetype": "text/x-python",
   "name": "python",
   "nbconvert_exporter": "python",
   "pygments_lexer": "ipython3",
   "version": "3.9.12"
  },
  "orig_nbformat": 4,
  "vscode": {
   "interpreter": {
    "hash": "1503cdd91ea0d04eda8d54dcfeb189f484546186126a35f1f50d5735cb41faf8"
   }
  }
 },
 "nbformat": 4,
 "nbformat_minor": 2
}
