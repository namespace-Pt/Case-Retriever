{
 "cells": [
  {
   "cell_type": "code",
   "execution_count": 1,
   "metadata": {},
   "outputs": [
    {
     "data": {
      "text/plain": [
       "ObjectApiResponse({'name': 'ubuntu', 'cluster_name': 'elasticsearch', 'cluster_uuid': 'G7JzeSt3Q5OoTS6zBdAaWQ', 'version': {'number': '8.4.1', 'build_flavor': 'default', 'build_type': 'tar', 'build_hash': '2bd229c8e56650b42e40992322a76e7914258f0c', 'build_date': '2022-08-26T12:11:43.232597118Z', 'build_snapshot': False, 'lucene_version': '9.3.0', 'minimum_wire_compatibility_version': '7.17.0', 'minimum_index_compatibility_version': '7.0.0'}, 'tagline': 'You Know, for Search'})"
      ]
     },
     "execution_count": 1,
     "metadata": {},
     "output_type": "execute_result"
    }
   ],
   "source": [
    "import re\n",
    "import os\n",
    "import json\n",
    "import numpy as np\n",
    "from tqdm import tqdm\n",
    "from elasticsearch import Elasticsearch\n",
    "from elasticsearch.helpers import bulk\n",
    "\n",
    "# Create the elastic instance\n",
    "elastic = Elasticsearch(\n",
    "    \"http://localhost:9200\",\n",
    "    request_timeout=1000000\n",
    ")\n",
    "\n",
    "# Successful response!\n",
    "elastic.info()"
   ]
  },
  {
   "cell_type": "code",
   "execution_count": 10,
   "metadata": {},
   "outputs": [
    {
     "data": {
      "text/plain": [
       "{'total': {'value': 39, 'relation': 'eq'},\n",
       " 'max_score': 8.164577,\n",
       " 'hits': [{'_index': 'wenshu',\n",
       "   '_id': 'e3CnJ4MBK2v3rVegewUj',\n",
       "   '_score': 8.164577,\n",
       "   'fields': {'case_name': ['彭绍波与陈忠远民间借贷纠纷一审民事判决书'],\n",
       "    'case_type': ['民事案件'],\n",
       "    'court_name': ['淄博市淄川区人民法院'],\n",
       "    'publish_date': ['2015-09-24'],\n",
       "    'content': ['山东省淄博市淄川区人民法院\\n民 事 判 决 书\\n（2015）川民初字第1905号\\n原告：彭绍波。\\n委托代理人（特别授权）：王继业，淄博淄川般城法律服务所法律工作者。\\n被告：陈忠远。\\n原告彭绍波与被告陈忠远民间借贷纠纷一案，原告于2015年7月15日向本院提起诉讼。本院受理后，依法由审判员朱守村适用简易程序，公开开庭进行了审理。原告彭绍波的委托代理人王继业，被告陈忠远到庭参加诉讼。本案现已审理终结。\\n原告彭绍波诉称，2015年2月16日被告借原告现金12000元，并写下借据一份为证，当时被告承诺三个月内偿还，原告数次催要，被告以无款为由拒付。为此，原告诉至法院，请求依法判令被告归还原告借款12000元。\\n被告陈忠远辩称，借条是本人书写，借条上的“彭波”就是本案原告“彭绍波”。欠原告12000元对，但没有承诺三个月还清，该款不是一次借的，是多次借款汇总打了一个借条。同意偿还，但现在没有能力一次性偿还，具体还款时间也无法确定。\\n经审理查明，被告于2015年2月16日给原告出具借条一份，载明：“今借到彭波现金壹万贰仟元整。”该借款被告至今未偿还原告。\\n以上事实有原告提供借条一份及当事人陈述在卷佐证，足以认定。\\n本院认为，被告向原告借款并出具借据，是双方真实意思表示，不违反法律、行政法规的强制性规定，原、被告之间成立合法的民间借贷关系。借据没有载明还款期限，原告起诉主张债权，被告应履行还款义务。对原告要求被告偿还借款本金12000元的诉讼请求，本院予以支持。据此，依照《中华人民共和国民法通则》第九十条、第一百零八条之规定，判决如下：\\n被告陈忠远偿还原告彭绍波借款12000元，于本判决生效之日起十日内付清。\\n如未按本判决指定的期间履行给付金钱义务，应当依照《中华人民共和国民事诉讼法》第二百五十三条之规定，加倍支付迟延履行期间的债务利息。\\n案件受理费100元，减半收取50元，财产保全费140元，合计190元，由被告陈忠远负担。\\n如不服本判决，可在判决书送达之日起十五日内，向本院递交上诉状，并按对方当事人的人数提出副本，上诉于山东省淄博市中级人民法院。\\n审 判 员  朱守村\\n二〇一五年八月二十日\\n代理书记员  孙 颖\\n']}},\n",
       "  {'_index': 'wenshu',\n",
       "   '_id': '93PHJ4MBK2v3rVeggKna',\n",
       "   '_score': 7.891034,\n",
       "   'fields': {'case_name': ['宋广强与张仁杰民间借贷纠纷一审民事判决书'],\n",
       "    'case_type': ['民事案件'],\n",
       "    'court_name': ['天津市西青区人民法院'],\n",
       "    'publish_date': ['2015-03-16'],\n",
       "    'content': ['天津市西青区人民法院\\n民 事 判 决 书\\n（2015）青民一初字第0437号\\n原告：宋广强，农民。\\n被告：张仁杰，无职业。\\n原告宋广强与被告张仁杰民间借贷纠纷一案，本院受理后，依法适用简易程序，由代理审判员杨纯阳公开开庭进行了审理。原告宋广强，被告张仁杰到庭参加了诉讼。本案现已审理终结。\\n原告宋广强诉称：2014年11月2日晚上，被告张仁杰向原告借款15000元，说过几天就还，原告看在兄长的面子上借给被告现金15000元。当日被告给原告打了一个借条。过了一周后，原告也未收到被告返还借款，打电话被告也不接，原告为了维护自身合法权益，请求法院判令：1、被告一次性返还借款人民币15000元；2、诉讼费由被告承担。\\n被告张仁杰辩称：我同意还钱，我不是拒绝还钱，我是现在没有能力还钱。\\n原告就其诉讼请求提交的证据有借条一张，证明被告借款的事实。\\n被告就其答辩意见未提交证据。\\n经审理查明：被告张仁杰与原告宋广强通过原告兄长相识。被告张仁杰于2014年11月2日向原告宋广强借得现金15000元并打下借条一张，内容为：张仁杰借宋广强15000元，借款人张仁杰。双方没有约定利息及还款时间。原告当庭要求被告立刻还钱，被告表示同意还钱，但目前没有工作也没有钱，故无法偿还。\\n上述事实，有原、被告提交的证据及其当庭陈述证明属实。\\n本院认为：合法的借贷关系受法律保护。借款时间没有约定或者约定不明的，贷款人可以催告借款人在合理期限内返还。原告宋广强出借被告张仁杰15000元的事实，有原告提交的借条予以证明，且被告当庭认可该借款，故对于原告主张被告归还借款15000元的主张，本院予以支持。\\n综上所述，依照《中华人民共和国民法通则》第九十条，《中华人民共和国合同法》第二百零六条、二百一十一条之规定，判决如下：\\n被告张仁杰于本判决生效之日起十五日内归还原告宋广强借款15000元；\\n案件受理费88元，由被告负担，被告于本判决生效之日起五日内交付本院。\\n被告如果未按本判决指定的期间履行给付金钱义务，应当依照《中华人民共和国民事诉讼法》第二百五十三条之规定，加倍支付迟延履行期间的债务利息。\\n如不服本判决，可在判决书送达之日起十五日内，向本院递交上诉状，并按对方当事人的人数提出副本，上诉于天津市第一中级人民法院。\\n代理审判员  杨纯阳\\n二〇一五年一月二十九日\\n书 记 员  汪红娟\\n']}}]}"
      ]
     },
     "execution_count": 10,
     "metadata": {},
     "output_type": "execute_result"
    }
   ],
   "source": [
    "emb = np.random.rand(768).astype(np.float32)\n",
    "\n",
    "elastic.search(\n",
    "    index=\"wenshu\",\n",
    "    size=2,\n",
    "    from_=0,\n",
    "    _source=False,\n",
    "    fields=[\"case_name\", \"content\", {\"field\": \"publish_date\", \"format\": \"year_month_day\"}, \"court_name\", \"case_type\"],\n",
    "    query={\n",
    "        # \"combined_fields\": {\n",
    "        #     \"query\": \"测试\",\n",
    "        #     \"fields\": [\"case_name\", \"content\"]\n",
    "        # },\n",
    "        # \"match_phrase\": {\n",
    "        #     \"case_name\": \"彭绍波与陈忠远民间借贷纠纷一审民事判决书\",\n",
    "        # },\n",
    "        \"multi_match\" : {\n",
    "            \"query\": \"打了一个借条\",\n",
    "            \"type\": \"phrase\",\n",
    "            \"fields\": [\"case_name\", \"content\"]\n",
    "        }\n",
    "    },\n",
    "    aggs={\n",
    "        \"agg-court\": {\n",
    "            \"terms\": {\n",
    "                \"field\": \"court_name\"\n",
    "            }\n",
    "        }\n",
    "    },\n",
    "    # knn={\n",
    "    #     \"field\": \"vector\",\n",
    "    #     \"query_vector\": (emb / np.linalg.norm(emb)).tolist(),\n",
    "    #     \"k\": 10,\n",
    "    #     \"num_candidates\": 10,\n",
    "    #     # \"boost\": 1\n",
    "    # },\n",
    "    # highlight={\n",
    "    #     \"fields\": {\n",
    "    #         \"content\": {\n",
    "    #             \"pre_tags\" : [\"<strong>\"],\n",
    "    #             \"post_tags\": [\"</strong>\"],\n",
    "    #             \"number_of_fragments\": 1,\n",
    "    #         }\n",
    "    #     }\n",
    "    # },\n",
    "    # post_filter={\n",
    "    #     \"bool\": {\n",
    "    #         \"filter\": [\n",
    "    #             {\n",
    "    #                 \"terms\": {\"court_name\": [\"上海市长宁区人民法院\"]}\n",
    "    #             }\n",
    "    #         ]\n",
    "    #     }\n",
    "    # }\n",
    ")[\"hits\"]"
   ]
  },
  {
   "cell_type": "code",
   "execution_count": null,
   "metadata": {},
   "outputs": [],
   "source": [
    "file = \"p2-1.filtered\"\n",
    "model = \"DPR\"\n",
    "\n",
    "embeddings = np.memmap(\n",
    "    os.path.join(\"data/encode\", model, \"wenshu\", file, \"text_embeddings.mmp\"),\n",
    "    dtype=np.float32,\n",
    "    mode=\"r\"\n",
    ").reshape(-1, 768)\n",
    "\n",
    "def gendata():\n",
    "    with open(f\"../../../Data/wenshu/{file}.txt\", encoding=\"utf-8\") as f:\n",
    "        for i, line in enumerate(f):\n",
    "            case = json.loads(line.strip())\n",
    "            del case[\"crawl_time\"]\n",
    "            del case[\"legal_base\"]\n",
    "            del case[\"tf_content\"]\n",
    "            del case[\"id\"]\n",
    "            case[\"vector\"] = embeddings[i].tolist()\n",
    "            yield case\n",
    "\n",
    "for x in tqdm(gendata(), desc=\"Indexing\", total=embeddings.shape[0]):\n",
    "    elastic.index(index=\"wenshu\", document=x)"
   ]
  },
  {
   "cell_type": "code",
   "execution_count": null,
   "metadata": {},
   "outputs": [],
   "source": [
    "elastic.indices.create(\n",
    "    index=\"wenshu\",\n",
    "    settings={\n",
    "        'analysis': {\n",
    "            'analyzer': {\n",
    "                # we must set the default analyzer\n",
    "                \"default\": {\n",
    "                    \"type\": \"smartcn\"\n",
    "                }\n",
    "            }\n",
    "        },\n",
    "        \"index.mapping.ignore_malformed\": True\n",
    "    },\n",
    "    mappings={\n",
    "        \"properties\": {\n",
    "            # field name\n",
    "            \"doc_id\": {\n",
    "                \"type\": \"keyword\",\n",
    "            },\n",
    "            \"court_name\": {\n",
    "                \"type\": \"keyword\",\n",
    "            },\n",
    "            \"court_id\": {\n",
    "                \"type\": \"keyword\",\n",
    "            },\n",
    "            \"court_province\": {\n",
    "                \"type\": \"keyword\",\n",
    "            },\n",
    "            \"court_city\": {\n",
    "                \"type\": \"keyword\",\n",
    "            },\n",
    "            \"court_region\": {\n",
    "                \"type\": \"keyword\",\n",
    "            },\n",
    "            \"court_district\": {\n",
    "                \"type\": \"keyword\"\n",
    "            },\n",
    "            \"pub_prosecution_org\": {\n",
    "                \"type\": \"keyword\"\n",
    "            },\n",
    "            \"case_type\": {\n",
    "                \"type\": \"keyword\",\n",
    "            },\n",
    "            \"cause\": {\n",
    "                \"type\": \"keyword\",\n",
    "            },\n",
    "            \"trial_round\": {\n",
    "                \"type\": \"keyword\"\n",
    "            },\n",
    "            \"content\": {\n",
    "                \"type\": \"text\"\n",
    "            },\n",
    "            \"vector\": {\n",
    "                \"type\": \"dense_vector\",\n",
    "                \"dims\": 768,\n",
    "                # enable hnsw\n",
    "                \"index\": True,\n",
    "                # inner product only allows unit-length vector\n",
    "                \"similarity\": \"dot_product\"  \n",
    "            }\n",
    "        }\n",
    "    }\n",
    ")"
   ]
  },
  {
   "cell_type": "code",
   "execution_count": null,
   "metadata": {},
   "outputs": [],
   "source": [
    "elastic.indices.get_mapping(index=\"wenshu\")"
   ]
  },
  {
   "cell_type": "code",
   "execution_count": null,
   "metadata": {},
   "outputs": [],
   "source": [
    "# delete index\n",
    "elastic.indices.delete(index=\"wenshu\")"
   ]
  },
  {
   "cell_type": "code",
   "execution_count": null,
   "metadata": {},
   "outputs": [],
   "source": [
    "elastic.indices.get_alias(index=\"*\")"
   ]
  },
  {
   "cell_type": "code",
   "execution_count": null,
   "metadata": {},
   "outputs": [],
   "source": [
    "elastic.delete_by_query(\n",
    "    index=\"wenshu\", \n",
    "    query={\n",
    "        \"match_all\": {}\n",
    "    }\n",
    ")"
   ]
  },
  {
   "cell_type": "code",
   "execution_count": null,
   "metadata": {},
   "outputs": [],
   "source": [
    "elastic.search(\n",
    "    index=\"wenshu\",\n",
    "    query={\n",
    "        \"match_all\": {}\n",
    "    },\n",
    "    size=1,\n",
    "    sort=[\n",
    "        {\n",
    "        \"_timestamp\": {\n",
    "            \"order\": \"desc\"\n",
    "        }\n",
    "        }\n",
    "    ]\n",
    ")[\"hits\"]"
   ]
  },
  {
   "cell_type": "code",
   "execution_count": 5,
   "metadata": {},
   "outputs": [
    {
     "data": {
      "text/plain": [
       "ObjectApiResponse({'count': 26345, '_shards': {'total': 1, 'successful': 1, 'skipped': 0, 'failed': 0}})"
      ]
     },
     "execution_count": 5,
     "metadata": {},
     "output_type": "execute_result"
    }
   ],
   "source": [
    "elastic.count(\n",
    "    index=\"wenshu\",\n",
    "    query={\n",
    "        \"match_all\": {\n",
    "        }\n",
    "    }\n",
    ")"
   ]
  },
  {
   "cell_type": "code",
   "execution_count": null,
   "metadata": {},
   "outputs": [],
   "source": [
    "skipped = 0\n",
    "file = \"p5\"\n",
    "with open(f\"../../../Data/wenshu/{file}.txt\", encoding=\"utf-8\") as f, open(f\"../../../Data/wenshu/{file}.filtered.txt\", \"w\", encoding=\"utf-8\") as g:\n",
    "    for i, line in enumerate(tqdm(f)):\n",
    "        fields = json.loads(line.strip())\n",
    "\n",
    "        if fields[\"basics_text\"]:\n",
    "            content = fields[\"basics_text\"].replace(\"/n\", \"\")\n",
    "        else:\n",
    "            content = fields[\"content\"]\n",
    "            if not content:\n",
    "                skipped += 1\n",
    "                continue\n",
    "            else:\n",
    "                content = content.replace(\"\\n\", \"\")\n",
    "                for x in (\"指控：\", \"指控，\", \"查明：\", \"查明，\", \"诉称：\", \"诉称，\", \"请求：\", \"理由：\", \"认定：\", \"认定:\", \"认定，\", \"查认为，\"):\n",
    "                    idx = content.rfind(x)\n",
    "                    if idx != -1:\n",
    "                        break\n",
    "                if idx == -1:\n",
    "                    skipped += 1\n",
    "                    # print(content)\n",
    "                    # if skipped > 10:\n",
    "                    #     break\n",
    "                    continue\n",
    "                else:\n",
    "                    content = content[idx:]\n",
    "        # write filter content to a new field\n",
    "        fields[\"tf_content\"] = content\n",
    "        g.write(json.dumps(fields, ensure_ascii=False) + \"\\n\")\n",
    "\n",
    "skipped"
   ]
  }
 ],
 "metadata": {
  "kernelspec": {
   "display_name": "Python 3.9.12 64-bit ('anaconda3')",
   "language": "python",
   "name": "python3"
  },
  "language_info": {
   "codemirror_mode": {
    "name": "ipython",
    "version": 3
   },
   "file_extension": ".py",
   "mimetype": "text/x-python",
   "name": "python",
   "nbconvert_exporter": "python",
   "pygments_lexer": "ipython3",
   "version": "3.9.12"
  },
  "orig_nbformat": 4,
  "vscode": {
   "interpreter": {
    "hash": "1503cdd91ea0d04eda8d54dcfeb189f484546186126a35f1f50d5735cb41faf8"
   }
  }
 },
 "nbformat": 4,
 "nbformat_minor": 2
}
