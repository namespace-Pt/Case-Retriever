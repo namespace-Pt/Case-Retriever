{
 "cells": [
  {
   "cell_type": "code",
   "execution_count": 1,
   "metadata": {},
   "outputs": [
    {
     "data": {
      "text/plain": [
       "ObjectApiResponse({'name': 'ubuntu', 'cluster_name': 'elasticsearch', 'cluster_uuid': 'G7JzeSt3Q5OoTS6zBdAaWQ', 'version': {'number': '8.4.1', 'build_flavor': 'default', 'build_type': 'tar', 'build_hash': '2bd229c8e56650b42e40992322a76e7914258f0c', 'build_date': '2022-08-26T12:11:43.232597118Z', 'build_snapshot': False, 'lucene_version': '9.3.0', 'minimum_wire_compatibility_version': '7.17.0', 'minimum_index_compatibility_version': '7.0.0'}, 'tagline': 'You Know, for Search'})"
      ]
     },
     "execution_count": 1,
     "metadata": {},
     "output_type": "execute_result"
    }
   ],
   "source": [
    "import re\n",
    "import os\n",
    "import json\n",
    "import numpy as np\n",
    "from tqdm import tqdm\n",
    "from elasticsearch import Elasticsearch\n",
    "from elasticsearch.helpers import bulk\n",
    "from utils.encode import GenericPLMEncoder\n",
    "\n",
    "# Create the elastic instance\n",
    "elastic = Elasticsearch(\n",
    "    \"http://localhost:9200\",\n",
    "    request_timeout=1000000\n",
    ")\n",
    "\n",
    "# Successful response!\n",
    "elastic.info()"
   ]
  },
  {
   "cell_type": "code",
   "execution_count": 5,
   "metadata": {},
   "outputs": [
    {
     "name": "stderr",
     "output_type": "stream",
     "text": [
      "Some weights of BertModel were not initialized from the model checkpoint at /home/peitian_zhang/Code/Case-Retriever/src/data/model/DPR and are newly initialized: ['pooler.dense.weight', 'pooler.dense.bias']\n",
      "You should probably TRAIN this model on a down-stream task to be able to use it for predictions and inference.\n"
     ]
    }
   ],
   "source": [
    "import re\n",
    "import json\n",
    "from transformers import AutoModel, AutoTokenizer\n",
    "from utils.encode import GenericPLMEncoder\n",
    "\n",
    "plm = AutoModel.from_pretrained(\"/home/peitian_zhang/Code/Case-Retriever/src/data/model/DPR\")\n",
    "tokenizer = AutoTokenizer.from_pretrained(\"/home/peitian_zhang/Code/Case-Retriever/src/data/model/DPR\")\n",
    "model = GenericPLMEncoder(plm, tokenizer)\n",
    "\n",
    "a = model.encode_single_query(\"\"\"\n",
    "\n",
    "2016年2月26日，原告的员工郑洲招用被告到原告工地做工，并签订劳动合同。被告工作的时间是2016年2月26日至2016年9月21日。2016年9月26日，被告与原告决算，拿工钱离开。被告在工作期间由郑洲管理。\n",
    "庭审中，原告举示借条，该借条主要载明：今收到原告支付中交·锦悦一期二组团三标段工程5#楼（二十层-三十层）木工班组借款，金额5000元。被告在领款人签字处签名，时间为2016年8月26日。借条上有原告公章。被告质证称借条上确实是被告签名，但是出具借条时原告公司没有加盖公章，原告公司的公章是工程结束做决算时，原告在工资中抵扣了该笔款项后加盖的。\n",
    "庭审中，本院向原、被告释明，本案不属于民间借贷或借款合同法律关系，原告与被告存在劳动关系，本案应属劳动争议。原告当庭表示不认可本院的释明，坚持本案属于民间借贷纠纷，仍坚持以民间借贷法律关系提出请求。\n",
    "上述事实，有借条、重庆市江北区人民法院庭审笔录2份以及当事人的陈述等证据在卷佐证，并经庭审质证。\n",
    "\n",
    "\"\"\".replace(\"\\n\", \"\"))"
   ]
  },
  {
   "cell_type": "code",
   "execution_count": 6,
   "metadata": {},
   "outputs": [
    {
     "data": {
      "text/plain": [
       "{'total': {'value': 5741, 'relation': 'eq'},\n",
       " 'max_score': 0.004156325,\n",
       " 'hits': [{'_index': 'wenshu',\n",
       "   '_id': 'p2-1_3547',\n",
       "   '_score': 0.004156325,\n",
       "   'fields': {'case_name': ['ＸＸＸ与潘超明、叶晓微民间借贷纠纷一审民事判决书'],\n",
       "    'case_type': ['民事案件'],\n",
       "    'court_name': ['永嘉县人民法院'],\n",
       "    'publish_date': ['2017-09-29'],\n",
       "    'content': ['浙江省永嘉县人民法院\\n民 事 判 决 书\\n（2017）浙0324民初2855号\\n原告：ＸＸＸ，男，**********。\\n被告：潘超明，男，**********。\\n被告：叶晓微，女，**********。\\n委托诉讼代理人：温从威，********。\\n原告ＸＸＸ诉被告潘超明、叶晓微民间借贷纠纷一案，本院于2017年5月23日立案后，依法适用简易程序，于2017年7月17日公开开庭进行了审理。原告ＸＸＸ、被告叶晓微的委托诉讼代理人温从威到庭参加诉讼，被告潘超明经本院传票传唤无正当理由拒不到参加诉讼。本案现已审理终结。\\n原告ＸＸＸ向本院提出诉讼请求：1.判令被告潘超明、叶晓微偿还借款本金187000元；2.案件受理费由被告承担。事实和理由：人人行科技股份有限公司（以下简称“人人行公司”）为一家互联网金融公司，自主开发运营手机软件借贷宝，借贷宝的注册用户可在自己的好友间自由达成借款协议。被告潘超明和原告均为借贷宝的实名注册用户。自2017年3月17日起被告潘超明在借贷宝平台上阅读并同意《借款协议》，发布借款要约，约定到期还本付息。原告在借贷宝平台上阅读并同意了《借款协议》，确认出借给被告10笔共计187000元，并通过第三方支付公司鹰皇金佰仕网络技术有限公司将上述款项划付至被告的支付账户，被告、原告及人人行公司之间的《借款协议》成立并生效。被告在借款到期后未足额还本付息。\\n被告叶晓微辩称：1.《借款协议》是否真实，借款是否实际交付存疑。2.即使存在借款，也属赌债，原告有知道被告潘超明存在赌博情况的可能。3.即使借款真实合法，亦不应认定为夫妻共同债务，被告叶晓微不应承担共同还款责任。\\n原告围绕诉讼请求依法提交了证据，被告潘超明未提交书面答辩意见，亦无正当理由拒不到庭参加诉讼，应视为其自动放弃质证和抗辩的权利。原告提供的证据经本院审查，符合证据的真实性、关联性、合法性，亦具有相应的证明效力，应当作为认定本案事实的根据。\\n被告叶晓微提供的证据：1.支付宝转账、微信聊天记录（大富翁），其并不能证实被告潘超明将借款用于赌博；2.情况说明，被告潘超明未出庭应诉，情况说明的形式与内容真实性均无法确认；3.微信聊天记录，与本案不具有关联性。因此，被告叶晓微提供的证据，本院均不予认定。\\n本院经审理认定事实如下：原告ＸＸＸ与被告潘超明均系人人行公司旗下运营借贷宝平台实名认证注册会员。2016年3月17日至21日间，原告ＸＸＸ（出借人）与被告潘超明（借款人）、人人行公司通过借贷宝平台签署10份《借款协议》，借款金额分别为40000元、26000元、26000元、10000元、20000元、5000元、30000元、1500元、8500元、20000元，合计187000元。其中40000元的借款期限为10天，其余借款期限均为7天。\\n上述十份《借款协议》均载明：人人行公司运营管理借贷宝平台，为借贷宝平台上的借贷交易提供居间服务，借款人拟通过借贷宝平台借入资金，出借人拟通过借贷宝平台向借款人出借资金，借款人同意放弃知晓出借人真实身份信息的权利，且无论借款人是否知晓出借人真实身份信息，不影响本协议的效力，为此各方协议达成条款如下：第一条借款基本信息，借款金额，借款利率年化0%，还款方式借款期限届满后一次性偿还本金和利息；第二条借款流程，出借人通过借贷宝平台同意向借款人出借资金后，将出借资金存入出借人借贷宝账户，并授权人人行公司将出借资金由出借人借贷宝账户划转至借款人借贷宝账户，划转完毕即视为借款成功，借款成功次日即为利息起算日；第三条还款流程第二款，还款日的次日视为宽限期，借款人在还款日24:00点前未足额偿还借款本金和利息的，宽限期当日仍以未偿还借款本金为基数，按照本协议第一条约定的借款利率计收利息；借款人于宽限期24:00点前仍未足额偿还借款本息的，视为借款人逾期，自逾期之日（宽限期次日）起，按照24%的年化利率计收利息，直至借款人清偿全部本息为止；……；第十一条第一款其他本协议采用电子文本形式制成，经借款人通过借贷宝平台在线同意发布后成立，在出借人的出借资金划付至借款人借贷宝账户之日起生效。各方均认可电子文本形式协议效力。\\n上述《借款协议》签订当日，原告ＸＸＸ从其借贷宝账户依约划转40000元、26000元、26000元、10000元、20000元、5000元、30000元、1500元、8500元、20000元至被告潘超明借贷宝账户。借款到期后，被告潘超明一直未还款。\\n另查明，借贷宝系一款手机应用程序，用户在借贷宝注册，注册用户可以通过借贷宝平台达成借款协议。该款手机软件由人人行公司自主开发并运营。\\n被告潘超明与叶晓微于2014年12月31日登记结婚，本案借款发生在两被告夫妻关系存续期间。\\n本院认为，“借贷宝”系互联网社交金融平台提供实名注册会员的借贷居间服务模式。原告ＸＸＸ与被告潘超明在人人行公司提供的借贷宝平台上自愿签订借贷协议，系双方真实意思的表示，且未违反法律及行政法规的强制性规定，合法有效。依法成立的合同，对当事人具有法律效力，当事人应当按照约定履行自己的义务。原告通过借贷宝平台，借款给被告潘超明187000元的事实清楚，被告潘超明应该按照协议约定履行还款义务，现其逾期未偿还借款本金，显属违约，应承担违约责任。因此，原告要求被告潘超明偿还借款本金187000元，理由正当、合法，本院予以支持。\\n根据《最高人民法院关于适用〈中华人民共和国婚姻法〉若干问题的解释（二）》第二十四条的规定：“债权人就婚姻关系存续期间夫妻一方以个人名义所负债务主张权利的，应当按夫妻共同债务处理。”本案借款发生在被告潘超明与被告叶晓微婚姻关系存续期间，应属夫妻共同债务。故原告要求被告叶晓微对本案借款承担共同偿还责任，符合法律规定，被告叶晓微辩称借款系赌债，并非夫妻共同债务，证据不足，本院不予支持。\\n依照《中华人民共和国合同法》第六十条、第二百零六条，《最高人民法院关于适用〈中华人民共和国婚姻法〉若干问题的解释（二）》第二十四条，《中华人民共和国民事诉讼法》第一百四十四条的规定，判决如下：\\n限被告潘超明、叶晓微于本判决生效之日起十日内共同偿还原告ＸＸＸ借款本金187000元。\\n如果被告未按判决指定的期间履行给付金钱义务，应当依照《中华人民共和国民事诉讼法》第二百五十三条之规定，加倍支付迟延履行期间的债务利息。\\n本案受理费4040元，减半收取2020元，由被告潘超明、叶晓微共同负担。\\n如不服本判决，可在判决送达之日起十五日内，向本院递交上诉状，并按对方当事人的人数提出副本，上诉于温州市中级人民法院。\\n审判员  郑晓锋\\n二〇一七年八月四日\\n书记员  徐 奇\\n永嘉县人民法院门户网站网址:http://yongjia.zjcourt.cn:88/\\n']}},\n",
       "  {'_index': 'wenshu',\n",
       "   '_id': 'p2-1_2320',\n",
       "   '_score': 0.0041194353,\n",
       "   'fields': {'case_name': ['弓健敏与张晓燕民间借贷纠纷一审民事判决书'],\n",
       "    'case_type': ['民事案件'],\n",
       "    'court_name': ['郑州市二七区人民法院'],\n",
       "    'publish_date': ['2018-05-03'],\n",
       "    'content': ['河南省郑州市二七区人民法院\\n民 事 判 决 书\\n（2017）豫0103民初13013号\\n原告：弓健敏，女，汉族，1973年3月18日出生，住河南省郑州市。\\n委托诉讼代理人：李建华，郑州市铭功路法律服务所法律工作者。\\n被告：张晓燕，女，汉族，1985年1月19日出生，住河南省西峡县。\\n委托诉讼代理人：张辉建，河南欣成律师事务所律师。\\n委托诉讼代理人：郭永康，河南欣成律师事务所律师。\\n原告弓健敏与被告张晓燕民间借贷纠纷一案，本院立案受理后，依法适用简易程序，公开开庭进行了审理。原告的委托诉讼代理人李建华、被告的委托诉讼代理人张辉建、郭永康到庭参加诉讼。本案现已审理终结。\\n原告弓健敏向本院提出诉讼请求：1.依法判令被告偿还原告100000元及利息（利息按照中国人民银行同期贷款利率自2014年元月计算至实际还款之日）；2.本案诉讼费用由被告承担。事实和理由：2013年9月24日原告借给被告现金100000元整，由转款凭证后口头约定按二分利息支付，可被告支付了三个月利息后，就一直拖欠本金及利息，原告多次催要无果，据此，根据民诉法第190条规定诉至法院，望判如所请。\\n被告张晓燕答辩称，被告与原告弓健敏之间没有借贷合意，不存在借贷事实及民间借贷法律关系，原告弓健敏混淆是非，起诉被告要求偿还100000元借款及利息缺乏事实和法律依据，请求驳回原告诉请。1.被告与原告之间原系同事关系，同属一个公司（金融公司），因公司业务原因双方之间需要进行短时间、多批次的资金往来，因此双方之间通过银行卡会经常性进行相互的转款、转账行为；原告弓健敏诉称于2013年9月24日借款给被告100000，有转款凭证，被告支付三个月利息后便一直拖欠本金及利息是虚假陈述。事实上，2013年9月24日发生的款项并非借款，实际为公司借贷业务转款，陆续的被告也频繁、多次、大额、小额向原告弓健敏账户进行转账，通过被告的转款、转账记录可以看出，从2013年9月24日之后，双方之间转款十分频繁，时间间隔也并不长，经过统计，被告向原告弓健敏转款远远高于原告向被告转款数额，如果被告也向原告一样违背诚实信用原则，同样可以截取部分转账凭证将原告起诉至法院，要求原告偿还相应“借款”及利息，鉴于此情形，原告诉称的“借款”及利息不能成立。2.被告认为根据相关法律规定，民间借贷法律关系的成立需符合形式要件和实质要件。形式要件即达成合意的外在形式，如借条、借款合同、口头约定以及其他可以表明双方借款合意的形式；实质要件即款项的实际交付。民间借贷案件具有实践性特征，借贷合同的成立，不仅要有当事人的合意，还要有交付钱款的事实。第一、结合本案，被告与原告弓健敏之间并没有任何借款的合意，除了2013年9月24日转账流水凭证，原告没有其他证据进一步印证双方存在借贷合意，借贷事实。同时原告起诉状也没有对本次“借款”的时间、地点、借款过程、借款金额的形成，借款的来源、款项交付、交易方式等进行清楚详细的说明和陈述，明显属于恶意虚假诉讼。第二，从借贷关系成立的实质要件的角度来看，原告提供了2013年9月24日通过其本人银行卡向被告银行卡转款的证明，该交易记录仅证明双方存在资金上的来往，仅仅是局部的片面的记录，并不能完整还原案件的实际事实情况。鉴于被告提供了完整的银行流水，该笔款项实际上是原告与被告公司业务上资金往来的职务行为，被告有相关银行交易流水证据予以印证。第三、根据《最高人民法院关于审理民间借贷案件适用法律若干问题的规定》第十七条规定：原告仅依据金融机构的转账凭证提起民间借贷诉讼，被告抗辩转账系偿还双方之前借款或其他债务，被告应当对其主张提供证据证明。被告提供相应证据证明其主张后，原告仍应就借贷关系的成立承担举证证明责任。本案中，原告仅仅在诉状中陈述是口头约定的借款，如此大额转账没有提供其他相关证据进行合理说明是令人费解的、是难以令人信服的。综上，被告与原告弓健敏之间没有借贷合意，不存在借贷事实及民间借贷法律关系，原告弓健敏混淆是非，起诉被告要求偿还100000元借款及利息缺乏事实和法律依据，请求依法驳回原告诉请。\\n当事人围绕诉讼请求提交了证据，本院组织当事人进行了证据交换和质证。原被告提交的证据，能够相互印证的部分，本院予以采信。\\n根据以上有效证据及当事人陈述，本院确认以下事实：原、被告系同事关系。原告称，2013年9月24日原告借给被告现金10万元整，被告支付三个月利息后，本金及剩余利息至今未还。原告为证明其主张提交了其名下中国工商银行卡的转账凭证，该凭证载明原告于2013年9月24日向被告转账100000元，被告分别于2013年10月21日、2013年11月25日、2013年12月20日向原告转账2250元、2750元、2334元。被告对原告的上述主张及证据的证明目的不予认可。被告称，原、被告系同事关系，因公司业务原因双方之间存在多批次的资金往来，不存在借贷事实及民间借贷法律关系。被告为证明其主张，提交了其名下中国工商银行卡的转账凭证，该凭证载明2013年9月24日至2015年9月29日之间被告向原告转款3730001元，原告向被告转款1814144.54元。\\n本院认为：当事人对自己提出的主张，有责任提供证据。最高人民法院关于审理民间借贷案件适用法律若干问题的规定》第十七条规定，原告仅依据金融机构的转账凭证提起民间借贷诉讼，被告抗辩转账系偿还双方之前借款或其他债务，被告应当对其主张提供证据证明。被告提供相应证据证明其主张后，原告仍应就借贷关系的成立承担举证证明责任。本案中，原被告双方系同事关系，被告提交的证据显示原被告双方之间存在频繁多次的相互转账行为，且被告向原告转款金额多于原告向被告的转款金额，原告仅提供2013年9月24日的转账凭证，无其他证据相印证，不足以证明2013年9月24日的转账系原告对被告出借的款项。故原告要求被告偿还借款本息的诉讼请求，证据不力，本院不予支持。综上，根据《中华人民共和国民事诉讼法》第六十四条第一款、最高人民法院关于审理民间借贷案件适用法律若干问题的规定》第十七条之规定，判决如下：\\n驳回原告弓健敏的诉讼请求。\\n案件受理费2300元，由原告弓健敏负担。\\n如不服本判决，可在判决书送达之日起十五日内向本院递交上诉状一式十二份，上诉于河南省郑州市中级人民法院。\\n审判员  张西俊\\n二〇一八年三月六日\\n书记员  高重坤\\n']}}]}"
      ]
     },
     "execution_count": 6,
     "metadata": {},
     "output_type": "execute_result"
    }
   ],
   "source": [
    "emb = np.random.rand(768).astype(np.float32)\n",
    "\n",
    "elastic.search(\n",
    "    index=\"wenshu\",\n",
    "    size=2,\n",
    "    from_=0,\n",
    "    _source=False,\n",
    "    fields=[\"case_name\", \"content\", {\"field\": \"publish_date\", \"format\": \"year_month_day\"}, \"court_name\", \"case_type\"],\n",
    "    query={\n",
    "        # \"match\": {\n",
    "        #     \"content\": \"2016年2月26日，原告的员工郑洲招用被告到原告工地做工，并签订劳动合同。被告工作的时间是2016年2月26日至2016年9月21日。2016年9月26日，被告与原告决算，拿工钱离开。被告在工作期间由郑洲管理。\",\n",
    "        # },\n",
    "        # \"match_phrase\": {\n",
    "        #     \"case_name\": \"彭绍波与陈忠远民间借贷纠纷一审民事判决书\",\n",
    "        # },\n",
    "        \"combined_fields\": {\n",
    "            \"query\": \"借贷\",\n",
    "            \"fields\": [\"case_name\", \"content\"],\n",
    "        },\n",
    "        # \"multi_match\" : {\n",
    "        #     \"query\": \"打了一个借条\",\n",
    "        #     \"type\": \"phrase\",\n",
    "        #     \"fields\": [\"case_name\", \"content\"]\n",
    "        # },\n",
    "        # \"script_score\": {\n",
    "        #     \"query\": {\n",
    "        #         \"match\": {\n",
    "        #             \"content\": \"2016年2月26日，原告的员工郑洲招用被告到原告工地做工，并签订劳动合同。被告工作的时间是2016年2月26日至2016年9月21日。2016年9月26日，被告与原告决算，拿工钱离开。被告在工作期间由郑洲管理。\"\n",
    "        #         }\n",
    "        #     },\n",
    "        #     \"script\": {\n",
    "        #         # \"source\": \"_score\"\n",
    "        #         \"source\": \"doc['vector'].size() == 0 ? 0 : dotProduct(params.queryVector, 'vector') + 1\",\n",
    "        #         \"params\": {\n",
    "        #             \"queryVector\": a\n",
    "        #         }\n",
    "        #     },\n",
    "        # },\n",
    "    },\n",
    "    # knn={\n",
    "    #     \"field\": \"vector\",\n",
    "    #     \"query_vector\": (emb / np.linalg.norm(emb)).tolist(),\n",
    "    #     \"k\": 10,\n",
    "    #     \"num_candidates\": 10,\n",
    "    #     # \"boost\": 1\n",
    "    # },\n",
    "    # aggs={\n",
    "    #     \"agg-court\": {\n",
    "    #         \"terms\": {\n",
    "    #             \"field\": \"court_name\"\n",
    "    #         }\n",
    "    #     }\n",
    "    # },\n",
    "    # highlight={\n",
    "    #     \"fields\": {\n",
    "    #         \"content\": {\n",
    "    #             \"pre_tags\" : [\"<strong>\"],\n",
    "    #             \"post_tags\": [\"</strong>\"],\n",
    "    #             \"number_of_fragments\": 1,\n",
    "    #         }\n",
    "    #     }\n",
    "    # },\n",
    "    # post_filter={\n",
    "    #     \"bool\": {\n",
    "    #         \"filter\": [\n",
    "    #             {\n",
    "    #                 \"terms\": {\"court_name\": [\"上海市长宁区人民法院\"]}\n",
    "    #             }\n",
    "    #         ]\n",
    "    #     }\n",
    "    # }\n",
    ")[\"hits\"]"
   ]
  },
  {
   "cell_type": "code",
   "execution_count": 3,
   "metadata": {},
   "outputs": [
    {
     "data": {
      "text/plain": [
       "ObjectApiResponse({'acknowledged': True, 'shards_acknowledged': True, 'index': 'wenshu'})"
      ]
     },
     "execution_count": 3,
     "metadata": {},
     "output_type": "execute_result"
    }
   ],
   "source": [
    "elastic.indices.create(\n",
    "    index=\"wenshu\",\n",
    "    settings={\n",
    "        'analysis': {\n",
    "            'analyzer': {\n",
    "                # we must set the default analyzer\n",
    "                \"default\": {\n",
    "                    \"type\": \"smartcn\"\n",
    "                }\n",
    "            }\n",
    "        },\n",
    "        \"index.mapping.ignore_malformed\": True\n",
    "    },\n",
    "    mappings={\n",
    "        \"properties\": {\n",
    "            # field name\n",
    "            \"doc_id\": {\n",
    "                \"type\": \"keyword\",\n",
    "            },\n",
    "            \"court_name\": {\n",
    "                \"type\": \"keyword\",\n",
    "            },\n",
    "            \"court_id\": {\n",
    "                \"type\": \"keyword\",\n",
    "            },\n",
    "            \"court_province\": {\n",
    "                \"type\": \"keyword\",\n",
    "            },\n",
    "            \"court_city\": {\n",
    "                \"type\": \"keyword\",\n",
    "            },\n",
    "            \"court_region\": {\n",
    "                \"type\": \"keyword\",\n",
    "            },\n",
    "            \"court_district\": {\n",
    "                \"type\": \"keyword\"\n",
    "            },\n",
    "            \"pub_prosecution_org\": {\n",
    "                \"type\": \"keyword\"\n",
    "            },\n",
    "            \"case_type\": {\n",
    "                \"type\": \"keyword\",\n",
    "            },\n",
    "            \"cause\": {\n",
    "                \"type\": \"keyword\",\n",
    "            },\n",
    "            \"trial_round\": {\n",
    "                \"type\": \"keyword\"\n",
    "            },\n",
    "            \"content\": {\n",
    "                \"type\": \"text\"\n",
    "            },\n",
    "            \"appellor\": {\n",
    "                \"type\": \"keyword\"\n",
    "            },\n",
    "            \"vector\": {\n",
    "                \"type\": \"dense_vector\",\n",
    "                \"dims\": 768,\n",
    "                # enable hnsw\n",
    "                \"index\": True,\n",
    "                # inner product only allows unit-length vector\n",
    "                \"similarity\": \"dot_product\"  \n",
    "            }\n",
    "        }\n",
    "    }\n",
    ")"
   ]
  },
  {
   "cell_type": "code",
   "execution_count": null,
   "metadata": {},
   "outputs": [],
   "source": [
    "elastic.indices.get_mapping(index=\"wenshu\")"
   ]
  },
  {
   "cell_type": "code",
   "execution_count": 2,
   "metadata": {},
   "outputs": [
    {
     "data": {
      "text/plain": [
       "ObjectApiResponse({'acknowledged': True})"
      ]
     },
     "execution_count": 2,
     "metadata": {},
     "output_type": "execute_result"
    }
   ],
   "source": [
    "# delete index\n",
    "elastic.indices.delete(index=\"wenshu\")"
   ]
  },
  {
   "cell_type": "code",
   "execution_count": null,
   "metadata": {},
   "outputs": [],
   "source": [
    "elastic.indices.get_alias(index=\"*\")"
   ]
  },
  {
   "cell_type": "code",
   "execution_count": null,
   "metadata": {},
   "outputs": [],
   "source": [
    "elastic.delete_by_query(\n",
    "    index=\"wenshu\", \n",
    "    query={\n",
    "        \"match_all\": {}\n",
    "    }\n",
    ")"
   ]
  },
  {
   "cell_type": "code",
   "execution_count": 4,
   "metadata": {},
   "outputs": [
    {
     "data": {
      "text/plain": [
       "ObjectApiResponse({'count': 990, '_shards': {'total': 1, 'successful': 1, 'skipped': 0, 'failed': 0}})"
      ]
     },
     "execution_count": 4,
     "metadata": {},
     "output_type": "execute_result"
    }
   ],
   "source": [
    "elastic.count(\n",
    "    index=\"wenshu\",\n",
    "    query={\n",
    "        \"match_all\": {\n",
    "        }\n",
    "    }\n",
    ")"
   ]
  },
  {
   "cell_type": "code",
   "execution_count": null,
   "metadata": {},
   "outputs": [],
   "source": []
  }
 ],
 "metadata": {
  "kernelspec": {
   "display_name": "Python 3.9.12 64-bit ('anaconda3')",
   "language": "python",
   "name": "python3"
  },
  "language_info": {
   "codemirror_mode": {
    "name": "ipython",
    "version": 3
   },
   "file_extension": ".py",
   "mimetype": "text/x-python",
   "name": "python",
   "nbconvert_exporter": "python",
   "pygments_lexer": "ipython3",
   "version": "3.9.12"
  },
  "orig_nbformat": 4,
  "vscode": {
   "interpreter": {
    "hash": "1503cdd91ea0d04eda8d54dcfeb189f484546186126a35f1f50d5735cb41faf8"
   }
  }
 },
 "nbformat": 4,
 "nbformat_minor": 2
}
