{
 "cells": [
  {
   "cell_type": "code",
   "execution_count": 1,
   "metadata": {},
   "outputs": [
    {
     "data": {
      "text/plain": [
       "ObjectApiResponse({'name': 'ubuntu', 'cluster_name': 'elasticsearch', 'cluster_uuid': 'G7JzeSt3Q5OoTS6zBdAaWQ', 'version': {'number': '8.4.1', 'build_flavor': 'default', 'build_type': 'tar', 'build_hash': '2bd229c8e56650b42e40992322a76e7914258f0c', 'build_date': '2022-08-26T12:11:43.232597118Z', 'build_snapshot': False, 'lucene_version': '9.3.0', 'minimum_wire_compatibility_version': '7.17.0', 'minimum_index_compatibility_version': '7.0.0'}, 'tagline': 'You Know, for Search'})"
      ]
     },
     "execution_count": 1,
     "metadata": {},
     "output_type": "execute_result"
    }
   ],
   "source": [
    "import re\n",
    "import os\n",
    "import json\n",
    "import numpy as np\n",
    "from tqdm import tqdm\n",
    "from elasticsearch import Elasticsearch\n",
    "from elasticsearch.helpers import bulk\n",
    "from utils.encode import GenericPLMEncoder\n",
    "\n",
    "# Create the elastic instance\n",
    "elastic = Elasticsearch(\n",
    "    \"http://localhost:9200\",\n",
    "    request_timeout=1000000\n",
    ")\n",
    "\n",
    "# Successful response!\n",
    "elastic.info()"
   ]
  },
  {
   "cell_type": "code",
   "execution_count": 5,
   "metadata": {},
   "outputs": [
    {
     "name": "stderr",
     "output_type": "stream",
     "text": [
      "Some weights of BertModel were not initialized from the model checkpoint at /home/peitian_zhang/Code/Case-Retriever/src/data/model/DPR and are newly initialized: ['pooler.dense.weight', 'pooler.dense.bias']\n",
      "You should probably TRAIN this model on a down-stream task to be able to use it for predictions and inference.\n"
     ]
    }
   ],
   "source": [
    "import re\n",
    "import json\n",
    "from transformers import AutoModel, AutoTokenizer\n",
    "from utils.encode import GenericPLMEncoder\n",
    "\n",
    "plm = AutoModel.from_pretrained(\"/home/peitian_zhang/Code/Case-Retriever/src/data/model/DPR\")\n",
    "tokenizer = AutoTokenizer.from_pretrained(\"/home/peitian_zhang/Code/Case-Retriever/src/data/model/DPR\")\n",
    "model = GenericPLMEncoder(plm, tokenizer)\n",
    "\n",
    "a = model.encode_single_query(\"\"\"\n",
    "\n",
    "2016年2月26日，原告的员工郑洲招用被告到原告工地做工，并签订劳动合同。被告工作的时间是2016年2月26日至2016年9月21日。2016年9月26日，被告与原告决算，拿工钱离开。被告在工作期间由郑洲管理。\n",
    "庭审中，原告举示借条，该借条主要载明：今收到原告支付中交·锦悦一期二组团三标段工程5#楼（二十层-三十层）木工班组借款，金额5000元。被告在领款人签字处签名，时间为2016年8月26日。借条上有原告公章。被告质证称借条上确实是被告签名，但是出具借条时原告公司没有加盖公章，原告公司的公章是工程结束做决算时，原告在工资中抵扣了该笔款项后加盖的。\n",
    "庭审中，本院向原、被告释明，本案不属于民间借贷或借款合同法律关系，原告与被告存在劳动关系，本案应属劳动争议。原告当庭表示不认可本院的释明，坚持本案属于民间借贷纠纷，仍坚持以民间借贷法律关系提出请求。\n",
    "上述事实，有借条、重庆市江北区人民法院庭审笔录2份以及当事人的陈述等证据在卷佐证，并经庭审质证。\n",
    "\n",
    "\"\"\".replace(\"\\n\", \"\"))"
   ]
  },
  {
   "cell_type": "code",
   "execution_count": 23,
   "metadata": {},
   "outputs": [
    {
     "data": {
      "text/plain": [
       "{'total': {'value': 10000, 'relation': 'gte'},\n",
       " 'max_score': 1.9999995,\n",
       " 'hits': [{'_index': 'wenshu',\n",
       "   '_id': '_4WlU4MBK2v3rVegHVV6',\n",
       "   '_score': 1.9999995,\n",
       "   'fields': {'case_name': ['重庆中实力建筑劳务有限公司与霍开全民间借贷纠纷一审民事判决书'],\n",
       "    'case_type': ['民事案件'],\n",
       "    'court_name': ['重庆市江北区人民法院'],\n",
       "    'publish_date': ['2017-11-01'],\n",
       "    'content': ['重庆市江北区人民法院\\n民 事 判 决 书\\n（2017）渝0105民初13962号\\n原告：重庆中实力建筑劳务有限公司，住所地重庆市江北区邦渝花苑3号2-1，统一社会信用代码91500105683939497Y。\\n法定代表人：姚银萍，执行董事。\\n委托诉讼代理人：熊状，重庆朗坤律师事务所律师。\\n被告：霍开全，男，1958年6月18日出生，汉族，住重庆市巴南区。\\n原告重庆中实力建筑劳务有限公司与被告霍开全民间借贷纠纷一案，本院于2017年7月5日立案后，依法适用小额诉讼程序，公开开庭进行了审理。原告重庆中实力建筑劳务有限公司的委托诉讼代理人熊状，被告霍开全到庭参加诉讼。本案现已审理终结。\\n原告重庆中实力建筑劳务有限公司向本院提出诉讼请求：1.被告立即偿还原告借款5000元；2.被告从2017年7月4日起按年利率6%的标准向原告支付利息至实际付清之日止。事实与理由：2016年8月26日，被告以其家庭资金困难为由向原告借款5000元，原告出借款项后，被告向原告出具借条，其后，原告多次要求被告还款，被告均拒绝履行还款义务，故，向法院提起诉讼。\\n被告霍开全辩称，借条确实是我的签名，但是，出具借条时原告公司没有加盖公章，原告公司的公章是工程结束做决算时，原告在工资中抵扣了该笔款项后加盖的。我与原告不是借贷关系，是劳动关系，该笔款项也不是借贷，是老板预支给我们的生活费。工地上不会有老板借钱给工人，是我前期做工就有钱押在老板那里，没有钱生活了，老板就预支我们生活费，该笔5000元是因为9月1日孩子要开学了，需要学费，所以找老板预支的。\\n本院经审理认定事实如下：2016年2月26日，原告的员工郑洲招用被告到原告工地做工，并签订劳动合同。被告工作的时间是2016年2月26日至2016年9月21日。2016年9月26日，被告与原告决算，拿工钱离开。被告在工作期间由郑洲管理。\\n庭审中，原告举示借条，该借条主要载明：今收到原告支付中交·锦悦一期二组团三标段工程5#楼（二十层-三十层）木工班组借款，金额5000元。被告在领款人签字处签名，时间为2016年8月26日。借条上有原告公章。被告质证称借条上确实是被告签名，但是出具借条时原告公司没有加盖公章，原告公司的公章是工程结束做决算时，原告在工资中抵扣了该笔款项后加盖的。\\n庭审中，本院向原、被告释明，本案不属于民间借贷或借款合同法律关系，原告与被告存在劳动关系，本案应属劳动争议。原告当庭表示不认可本院的释明，坚持本案属于民间借贷纠纷，仍坚持以民间借贷法律关系提出请求。\\n上述事实，有借条、重庆市江北区人民法院庭审笔录2份以及当事人的陈述等证据在卷佐证，并经庭审质证。\\n本院认为，关于原、被告之间是否属于民间借贷法律关系的问题，《最高人民法院关于审理民间借贷案件适用法律若干问题的规定》第一条，本规定所称的民间借贷，是指自然人、法人、其他组织之间及其相互之间进行资金融通的行为。第十五条规定，原告以借据、收据、欠条等债权凭证为依据提起民间借贷诉讼，被告依据基础法律关系提出抗辩或者反诉，并提供证据证明债权非民间借贷行为引起，人民法院应当依据查明的案件事实，按照基础法律关系审理。《中华人民共和国劳动合同法》第七条规定，用人单位自用工之日起即与劳动者建立劳动关系。本案中，被告自2016年2月26日即由原告员工郑洲招用做工至2016年9月21日，并签订劳动合同，符合一方付出劳动，对方对劳动过程进行管理，并支付报酬的劳动法律关系特征，故被告与原告在此期间存在劳动关系。另一方面，根据建筑市场惯例，在一线做工的工人，按月结算报酬的情况较少，而更多的是采取借支生活费的方式进行处理，故借条上的款项应属原告预支给被告的劳动报酬。本案应属于劳动争议，不属于民间借贷纠纷。\\n《最高人民法院关于民事诉讼证据的若干规定》第三十五条规定,诉讼过程中，当事人主张的法律关系的性质或者民事行为的效力与人民法院根据案件事实作出的认定不一致的，不受本规定第三十四条规定的限制，人民法院应当告知当事人可以变更诉讼请求。当事人变更诉讼请求的，人民法院应当重新指定举证期限。本院向原告释明原、被告之间不属于民间借贷法律关系后，原告仍坚持按民间借贷法律关系提出请求，故，原告的诉讼请求应予驳回。\\n综上所述，依照《中华人民共和国劳动合同法》第七条、《最高人民法院关于审理民间借贷案件适用法律若干问题的规定》第一条、第十五条，《最高人民法院关于民事诉讼证据的若干规定》第三十五条、《中华人民共和国民事诉讼法》第一百六十二条之规定，判决如下：\\n驳回原告重庆中实力建筑劳务有限公司的诉讼请求。\\n案件受理费50元，减半收取计25元，由原告重庆中实力建筑劳务有限公司负担。\\n本判决为终审判决。\\n代理审判员  易圣丰\\n二〇一七年八月二十四日\\n书 记 员  沈丹婷\\n']}},\n",
       "  {'_index': 'wenshu',\n",
       "   '_id': '3YnFU4MBK2v3rVegfbHe',\n",
       "   '_score': 1.9999995,\n",
       "   'fields': {'case_name': ['重庆中实力建筑劳务有限公司与谭皇民间借贷纠纷一审民事判决书'],\n",
       "    'case_type': ['民事案件'],\n",
       "    'court_name': ['重庆市江北区人民法院'],\n",
       "    'publish_date': ['2017-11-01'],\n",
       "    'content': ['重庆市江北区人民法院\\n民 事 判 决 书\\n（2017）渝0105民初13959号\\n原告：重庆中实力建筑劳务有限公司，住所地重庆市江北区邦渝花苑3号2-1，统一社会信用代码91500105683939497Y。\\n法定代表人：姚银萍，执行董事。\\n委托诉讼代理人：熊状，重庆朗坤律师事务所律师。\\n被告：谭皇，男，1991年3月4日出生，汉族，住重庆市巴南区。\\n原告重庆中实力建筑劳务有限公司与被告谭皇民间借贷纠纷一案，本院于2017年7月5日立案后，依法适用小额诉讼程序，公开开庭进行了审理。原告重庆中实力建筑劳务有限公司的委托诉讼代理人熊状，被告谭皇到庭参加诉讼。本案现已审理终结。\\n原告重庆中实力建筑劳务有限公司向本院提出诉讼请求：1.被告立即偿还原告借款5000元；2.被告从2017年7月4日起按年利率6%的标准向原告支付利息至实际付清之日止。事实与理由：2016年8月26日，被告以其家庭资金困难为由向原告借款5000元，原告出借款项后，被告向原告出具借条，其后，原告多次要求被告还款，被告均拒绝履行还款义务，故，向法院提起诉讼。\\n被告谭皇辩称，借条确实是我的签名，但是，出具借条时原告公司没有加盖公章，原告公司的公章是工程结束做决算时，原告在工资中抵扣了该笔款项后加盖的。我与原告不是借贷关系，是劳动关系，该笔款项也不是借贷，是老板预支给我们的生活费。工地上不会有老板借钱给工人，是我前期做工就有钱押在老板那里，没有钱生活了，老板就预支我们生活费，该笔5000元是因为9月1日孩子要开学了，需要学费，所以找老板预支的。\\n本院经审理认定事实如下：2016年2月26日，原告的员工郑洲招用被告到原告工地做工，并签订劳动合同。被告工作的时间是2016年2月26日至2016年9月21日。2016年9月26日，被告与原告决算，拿工钱离开。被告在工作期间由郑洲管理。\\n庭审中，原告举示借条，该借条主要载明：今收到原告支付中交·锦悦一期二组团三标段工程5#楼（二十层-三十层）木工班组借款，金额5000元。被告在领款人签字处签名，时间为2016年8月26日。借条上有原告公章。被告质证称借条上确实是被告签名，但是出具借条时原告公司没有加盖公章，原告公司的公章是工程结束做决算时，原告在工资中抵扣了该笔款项后加盖的。\\n庭审中，本院向原、被告释明，本案不属于民间借贷或借款合同法律关系，原告与被告存在劳动关系，本案应属劳动争议。原告当庭表示不认可本院的释明，坚持本案属于民间借贷纠纷，仍坚持以民间借贷法律关系提出请求。\\n上述事实，有借条、重庆市江北区人民法院庭审笔录2份以及当事人的陈述等证据在卷佐证，并经庭审质证。\\n本院认为，关于原、被告之间是否属于民间借贷法律关系的问题，《最高人民法院关于审理民间借贷案件适用法律若干问题的规定》第一条，本规定所称的民间借贷，是指自然人、法人、其他组织之间及其相互之间进行资金融通的行为。第十五条规定，原告以借据、收据、欠条等债权凭证为依据提起民间借贷诉讼，被告依据基础法律关系提出抗辩或者反诉，并提供证据证明债权非民间借贷行为引起，人民法院应当依据查明的案件事实，按照基础法律关系审理。《中华人民共和国劳动合同法》第七条规定，用人单位自用工之日起即与劳动者建立劳动关系。本案中，被告自2016年2月26日即由原告员工郑洲招用做工至2016年9月21日，并签订劳动合同，符合一方付出劳动，对方对劳动过程进行管理，并支付报酬的劳动法律关系特征，故被告与原告在此期间存在劳动关系。另一方面，根据建筑市场惯例，在一线做工的工人，按月结算报酬的情况较少，而更多的是采取借支生活费的方式进行处理，故借条上的款项应属原告预支给被告的劳动报酬。本案应属于劳动争议，不属于民间借贷纠纷。\\n《最高人民法院关于民事诉讼证据的若干规定》第三十五条规定,诉讼过程中，当事人主张的法律关系的性质或者民事行为的效力与人民法院根据案件事实作出的认定不一致的，不受本规定第三十四条规定的限制，人民法院应当告知当事人可以变更诉讼请求。当事人变更诉讼请求的，人民法院应当重新指定举证期限。本院向原告释明原、被告之间不属于民间借贷法律关系后，原告仍坚持按民间借贷法律关系提出请求，故，原告的诉讼请求应予驳回。\\n综上所述，依照《中华人民共和国劳动合同法》第七条、《最高人民法院关于审理民间借贷案件适用法律若干问题的规定》第一条、第十五条，《最高人民法院关于民事诉讼证据的若干规定》第三十五条、《中华人民共和国民事诉讼法》第一百六十二条之规定，判决如下：\\n驳回原告重庆中实力建筑劳务有限公司的诉讼请求。\\n案件受理费50元，减半收取计25元，由原告重庆中实力建筑劳务有限公司负担。\\n本判决为终审判决。\\n代理审判员  易圣丰\\n二〇一七年八月二十四日\\n书 记 员  沈丹婷\\n']}}]}"
      ]
     },
     "execution_count": 23,
     "metadata": {},
     "output_type": "execute_result"
    }
   ],
   "source": [
    "emb = np.random.rand(768).astype(np.float32)\n",
    "\n",
    "elastic.search(\n",
    "    index=\"wenshu\",\n",
    "    size=2,\n",
    "    from_=0,\n",
    "    _source=False,\n",
    "    fields=[\"case_name\", \"content\", {\"field\": \"publish_date\", \"format\": \"year_month_day\"}, \"court_name\", \"case_type\"],\n",
    "    query={\n",
    "        # \"match\": {\n",
    "        #     \"content\": \"2016年2月26日，原告的员工郑洲招用被告到原告工地做工，并签订劳动合同。被告工作的时间是2016年2月26日至2016年9月21日。2016年9月26日，被告与原告决算，拿工钱离开。被告在工作期间由郑洲管理。\",\n",
    "        # },\n",
    "        # \"match_phrase\": {\n",
    "        #     \"case_name\": \"彭绍波与陈忠远民间借贷纠纷一审民事判决书\",\n",
    "        # },\n",
    "        # \"multi_match\" : {\n",
    "        #     \"query\": \"打了一个借条\",\n",
    "        #     \"type\": \"phrase\",\n",
    "        #     \"fields\": [\"case_name\", \"content\"]\n",
    "        # },\n",
    "        \"script_score\": {\n",
    "            \"query\": {\n",
    "                \"match\": {\n",
    "                    \"content\": \"2016年2月26日，原告的员工郑洲招用被告到原告工地做工，并签订劳动合同。被告工作的时间是2016年2月26日至2016年9月21日。2016年9月26日，被告与原告决算，拿工钱离开。被告在工作期间由郑洲管理。\"\n",
    "                }\n",
    "            },\n",
    "            \"script\": {\n",
    "                # \"source\": \"_score\"\n",
    "                \"source\": \"doc['vector'].size() == 0 ? 0 : dotProduct(params.queryVector, 'vector') + 1\",\n",
    "                \"params\": {\n",
    "                    \"queryVector\": a\n",
    "                }\n",
    "            },\n",
    "        },\n",
    "    },\n",
    "    # knn={\n",
    "    #     \"field\": \"vector\",\n",
    "    #     \"query_vector\": (emb / np.linalg.norm(emb)).tolist(),\n",
    "    #     \"k\": 10,\n",
    "    #     \"num_candidates\": 10,\n",
    "    #     # \"boost\": 1\n",
    "    # },\n",
    "    # aggs={\n",
    "    #     \"agg-court\": {\n",
    "    #         \"terms\": {\n",
    "    #             \"field\": \"court_name\"\n",
    "    #         }\n",
    "    #     }\n",
    "    # },\n",
    "    # highlight={\n",
    "    #     \"fields\": {\n",
    "    #         \"content\": {\n",
    "    #             \"pre_tags\" : [\"<strong>\"],\n",
    "    #             \"post_tags\": [\"</strong>\"],\n",
    "    #             \"number_of_fragments\": 1,\n",
    "    #         }\n",
    "    #     }\n",
    "    # },\n",
    "    # post_filter={\n",
    "    #     \"bool\": {\n",
    "    #         \"filter\": [\n",
    "    #             {\n",
    "    #                 \"terms\": {\"court_name\": [\"上海市长宁区人民法院\"]}\n",
    "    #             }\n",
    "    #         ]\n",
    "    #     }\n",
    "    # }\n",
    ")[\"hits\"]"
   ]
  },
  {
   "cell_type": "code",
   "execution_count": null,
   "metadata": {},
   "outputs": [],
   "source": [
    "elastic.indices.create(\n",
    "    index=\"wenshu\",\n",
    "    settings={\n",
    "        'analysis': {\n",
    "            'analyzer': {\n",
    "                # we must set the default analyzer\n",
    "                \"default\": {\n",
    "                    \"type\": \"smartcn\"\n",
    "                }\n",
    "            }\n",
    "        },\n",
    "        \"index.mapping.ignore_malformed\": True\n",
    "    },\n",
    "    mappings={\n",
    "        \"properties\": {\n",
    "            # field name\n",
    "            \"doc_id\": {\n",
    "                \"type\": \"keyword\",\n",
    "            },\n",
    "            \"court_name\": {\n",
    "                \"type\": \"keyword\",\n",
    "            },\n",
    "            \"court_id\": {\n",
    "                \"type\": \"keyword\",\n",
    "            },\n",
    "            \"court_province\": {\n",
    "                \"type\": \"keyword\",\n",
    "            },\n",
    "            \"court_city\": {\n",
    "                \"type\": \"keyword\",\n",
    "            },\n",
    "            \"court_region\": {\n",
    "                \"type\": \"keyword\",\n",
    "            },\n",
    "            \"court_district\": {\n",
    "                \"type\": \"keyword\"\n",
    "            },\n",
    "            \"pub_prosecution_org\": {\n",
    "                \"type\": \"keyword\"\n",
    "            },\n",
    "            \"case_type\": {\n",
    "                \"type\": \"keyword\",\n",
    "            },\n",
    "            \"cause\": {\n",
    "                \"type\": \"keyword\",\n",
    "            },\n",
    "            \"trial_round\": {\n",
    "                \"type\": \"keyword\"\n",
    "            },\n",
    "            \"content\": {\n",
    "                \"type\": \"text\"\n",
    "            },\n",
    "            \"appellor\": {\n",
    "                \"type\": \"keyword\"\n",
    "            },\n",
    "            \"vector\": {\n",
    "                \"type\": \"dense_vector\",\n",
    "                \"dims\": 768,\n",
    "                # enable hnsw\n",
    "                \"index\": True,\n",
    "                # inner product only allows unit-length vector\n",
    "                \"similarity\": \"dot_product\"  \n",
    "            }\n",
    "        }\n",
    "    }\n",
    ")"
   ]
  },
  {
   "cell_type": "code",
   "execution_count": null,
   "metadata": {},
   "outputs": [],
   "source": [
    "elastic.indices.get_mapping(index=\"wenshu\")"
   ]
  },
  {
   "cell_type": "code",
   "execution_count": null,
   "metadata": {},
   "outputs": [],
   "source": [
    "# delete index\n",
    "elastic.indices.delete(index=\"wenshu\")"
   ]
  },
  {
   "cell_type": "code",
   "execution_count": null,
   "metadata": {},
   "outputs": [],
   "source": [
    "elastic.indices.get_alias(index=\"*\")"
   ]
  },
  {
   "cell_type": "code",
   "execution_count": null,
   "metadata": {},
   "outputs": [],
   "source": [
    "elastic.delete_by_query(\n",
    "    index=\"wenshu\", \n",
    "    query={\n",
    "        \"match_all\": {}\n",
    "    }\n",
    ")"
   ]
  },
  {
   "cell_type": "code",
   "execution_count": null,
   "metadata": {},
   "outputs": [],
   "source": [
    "elastic.search(\n",
    "    index=\"wenshu\",\n",
    "    query={\n",
    "        \"match_all\": {}\n",
    "    },\n",
    "    size=1,\n",
    "    sort=[\n",
    "        {\n",
    "        \"_timestamp\": {\n",
    "            \"order\": \"desc\"\n",
    "        }\n",
    "        }\n",
    "    ]\n",
    ")[\"hits\"]"
   ]
  },
  {
   "cell_type": "code",
   "execution_count": 4,
   "metadata": {},
   "outputs": [
    {
     "data": {
      "text/plain": [
       "ObjectApiResponse({'count': 1620, '_shards': {'total': 1, 'successful': 1, 'skipped': 0, 'failed': 0}})"
      ]
     },
     "execution_count": 4,
     "metadata": {},
     "output_type": "execute_result"
    }
   ],
   "source": [
    "elastic.count(\n",
    "    index=\"wenshu\",\n",
    "    query={\n",
    "        \"match_all\": {\n",
    "        }\n",
    "    }\n",
    ")"
   ]
  }
 ],
 "metadata": {
  "kernelspec": {
   "display_name": "Python 3.9.12 64-bit ('anaconda3')",
   "language": "python",
   "name": "python3"
  },
  "language_info": {
   "codemirror_mode": {
    "name": "ipython",
    "version": 3
   },
   "file_extension": ".py",
   "mimetype": "text/x-python",
   "name": "python",
   "nbconvert_exporter": "python",
   "pygments_lexer": "ipython3",
   "version": "3.9.12"
  },
  "orig_nbformat": 4,
  "vscode": {
   "interpreter": {
    "hash": "1503cdd91ea0d04eda8d54dcfeb189f484546186126a35f1f50d5735cb41faf8"
   }
  }
 },
 "nbformat": 4,
 "nbformat_minor": 2
}
