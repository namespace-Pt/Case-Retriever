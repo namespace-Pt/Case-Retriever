{
 "cells": [
  {
   "cell_type": "code",
   "execution_count": 6,
   "metadata": {},
   "outputs": [],
   "source": [
    "import re\n",
    "import json\n",
    "from transformers import AutoModel, AutoTokenizer\n",
    "from utils.encode import GenericPLMEncoder"
   ]
  },
  {
   "cell_type": "code",
   "execution_count": 7,
   "metadata": {},
   "outputs": [
    {
     "name": "stderr",
     "output_type": "stream",
     "text": [
      "Some weights of BertModel were not initialized from the model checkpoint at /home/peitian_zhang/Code/Case-Retriever/src/data/model/DPR_cos2 and are newly initialized: ['pooler.dense.bias', 'pooler.dense.weight']\n",
      "You should probably TRAIN this model on a down-stream task to be able to use it for predictions and inference.\n"
     ]
    }
   ],
   "source": [
    "plm = AutoModel.from_pretrained(\"/home/peitian_zhang/Code/Case-Retriever/src/data/model/DPR_cos2\")\n",
    "tokenizer = AutoTokenizer.from_pretrained(\"/home/peitian_zhang/Code/Case-Retriever/src/data/model/DPR_cos2\")\n",
    "model = GenericPLMEncoder(plm, tokenizer)"
   ]
  },
  {
   "cell_type": "code",
   "execution_count": 5,
   "metadata": {},
   "outputs": [
    {
     "name": "stdout",
     "output_type": "stream",
     "text": [
      "赵某某诉被告离婚纠纷一案，2012年4月28日，本院（2012）凤翔民初字第388号民事判决书认定夫妻共同债务中，赵某某和被告借原告3000元，判决由被告清偿。判决生效后，原告向被告催要无果，遂于2012年12月20日状诉来院，要求被告清偿其借款3000元。上述事实，有以下证据在案佐证，事实清楚，足以认定。1、原告提供本院（2012）凤翔民初字第388号民事判决书一份，证明赵某某诉被告离婚纠纷一案，2012年4月28日，本院（2012）凤翔民初字第388号民事判决书认定夫妻共同债务中，赵某某和被告借原告3000元，判决由被告清偿；2、原、被告当庭陈述。\n"
     ]
    }
   ],
   "source": [
    "with open(\"/home/peitian_zhang/Data/wenshu/p2-1.filtered.txt\") as f:\n",
    "    for i, line in enumerate(f):\n",
    "        case = json.loads(line)\n",
    "        if \"赵某某诉被告离婚纠纷一案，2012年4月28日，本院（2012）凤翔民初字第388号民事判决书认定夫妻共同债务中，赵某某和被告借原告3000元，判决由被告清偿。判决生效后，原告向被告催要无果，遂于2012年12月20日状诉来院，要求被告清偿其借款3000元。\" in line:\n",
    "            print(case[\"tf_content\"])\n",
    "            break"
   ]
  },
  {
   "cell_type": "code",
   "execution_count": 6,
   "metadata": {},
   "outputs": [
    {
     "name": "stdout",
     "output_type": "stream",
     "text": [
      "赵某诉被告离婚纠纷一案，2012年4月28日，本院（2012）凤翔民初字第388号民事判决书认定夫妻共同债务中，赵某和被告借原告5000元，判决由被告清偿。判决生效后，原告向被告催要无果，遂于2012年12月20日状诉来院，要求被告清偿其借款5000元。上述事实，有以下证据在案佐证，事实清楚，足以认定。1、原告提供本院（2012）凤翔民初字第388号民事判决书一份，证明赵某诉被告离婚纠纷一案，2012年4月28日，本院（2012）凤翔民初字第388号民事判决书认定夫妻共同债务中，赵某和被告借原告5000元，判决由被告清偿；2、原、被告当庭陈述。\n"
     ]
    }
   ],
   "source": [
    "with open(\"/home/peitian_zhang/Data/wenshu/p2-1.filtered.txt\") as f:\n",
    "    for i, line in enumerate(f):\n",
    "        case = json.loads(line)\n",
    "        if \"赵某诉被告离婚纠纷一案，2012年4月28日，本院（2012）凤翔民初字第388号民事判决书\" in line:\n",
    "            print(case[\"tf_content\"])\n",
    "            break"
   ]
  },
  {
   "cell_type": "code",
   "execution_count": 8,
   "metadata": {},
   "outputs": [],
   "source": [
    "a = model._encode(\"\"\"\n",
    "\n",
    "赵某某诉被告离婚纠纷一案，2012年4月28日，本院（2012）凤翔民初字第388号民事判决书认定夫妻共同债务中，赵某某和被告借原告3000元，判决由被告清偿。判决生效后，原告向被告催要无果，遂于2012年12月20日状诉来院，要求被告清偿其借款3000元。上述事实，有以下证据在案佐证，事实清楚，足以认定。1、原告提供本院（2012）凤翔民初字第388号民事判决书一份，证明赵某某诉被告离婚纠纷一案，2012年4月28日，本院（2012）凤翔民初字第388号民事判决书认定夫妻共同债务中，赵某某和被告借原告3000元，判决由被告清偿；2、原、被告当庭陈述。\n",
    "\n",
    "\"\"\".replace(\"\\n\", \"\"))"
   ]
  },
  {
   "cell_type": "code",
   "execution_count": 9,
   "metadata": {},
   "outputs": [],
   "source": [
    "b = model._encode(\"\"\"\n",
    "\n",
    "赵某诉被告离婚纠纷一案，2012年4月28日，本院（2012）凤翔民初字第388号民事判决书认定夫妻共同债务中，赵某某和被告借原告3000元，判决由被告清偿。判决生效后，原告向被告催要无果，遂于2012年12月20日状诉来院，要求被告清偿其借款3000元。上述事实，有以下证据在案佐证，事实清楚，足以认定。1、原告提供本院（2012）凤翔民初字第388号民事判决书一份，证明赵某某诉被告离婚纠纷一案，2012年4月28日，本院（2012）凤翔民初字第388号民事判决书认定夫妻共同债务中，赵某某和被告借原告3000元，判决由被告清偿；2、原、被告当庭陈述。\n",
    "\n",
    "\"\"\".replace(\"\\n\", \"\"))"
   ]
  },
  {
   "cell_type": "code",
   "execution_count": 10,
   "metadata": {},
   "outputs": [
    {
     "data": {
      "text/plain": [
       "tensor([0.9882])"
      ]
     },
     "execution_count": 10,
     "metadata": {},
     "output_type": "execute_result"
    }
   ],
   "source": [
    "a @ b.squeeze()"
   ]
  },
  {
   "cell_type": "code",
   "execution_count": null,
   "metadata": {},
   "outputs": [],
   "source": []
  }
 ],
 "metadata": {
  "kernelspec": {
   "display_name": "Python 3.9.12 64-bit ('anaconda3')",
   "language": "python",
   "name": "python3"
  },
  "language_info": {
   "codemirror_mode": {
    "name": "ipython",
    "version": 3
   },
   "file_extension": ".py",
   "mimetype": "text/x-python",
   "name": "python",
   "nbconvert_exporter": "python",
   "pygments_lexer": "ipython3",
   "version": "3.9.12"
  },
  "orig_nbformat": 4,
  "vscode": {
   "interpreter": {
    "hash": "1503cdd91ea0d04eda8d54dcfeb189f484546186126a35f1f50d5735cb41faf8"
   }
  }
 },
 "nbformat": 4,
 "nbformat_minor": 2
}
