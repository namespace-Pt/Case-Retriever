{
 "cells": [
  {
   "cell_type": "code",
   "execution_count": 1,
   "metadata": {},
   "outputs": [],
   "source": [
    "import re\n",
    "import json\n",
    "from transformers import AutoModel, AutoTokenizer\n",
    "from utils.encode import GenericPLMEncoder"
   ]
  },
  {
   "cell_type": "code",
   "execution_count": 3,
   "metadata": {},
   "outputs": [
    {
     "name": "stderr",
     "output_type": "stream",
     "text": [
      "Some weights of BertModel were not initialized from the model checkpoint at /home/peitian_zhang/Code/Case-Retriever/src/data/model/DPR and are newly initialized: ['pooler.dense.bias', 'pooler.dense.weight']\n",
      "You should probably TRAIN this model on a down-stream task to be able to use it for predictions and inference.\n"
     ]
    }
   ],
   "source": [
    "plm = AutoModel.from_pretrained(\"/home/peitian_zhang/Code/Case-Retriever/src/data/model/DPR\")\n",
    "tokenizer = AutoTokenizer.from_pretrained(\"/home/peitian_zhang/Code/Case-Retriever/src/data/model/DPR\")\n",
    "model = GenericPLMEncoder(plm, tokenizer)"
   ]
  },
  {
   "cell_type": "code",
   "execution_count": 10,
   "metadata": {},
   "outputs": [
    {
     "name": "stdout",
     "output_type": "stream",
     "text": [
      "2015年4月15日，被告以本人在车巴沟承揽了建设工程暂时资金困难，媳妇又在佳美超市开一家服装店，难以周转���金为由，便求原告为其提供借款15万元，没有约定具体的还款期限和借款利息。并承诺工程接账后归还借款，当天给被告给付了15万元现金。到2015年12月份，原告觉得所有工地都已停工了，工程款也该结算了，找被告索要这笔借款，被告以种种理由予以推脱，没有任何还款的行动，2016年7月份以后，原告给被告打电话，其不接电话。被告不讲信用，恶意拖欠原告的借款不还，给原告造成很大的经济负担，迫于无奈原告只得诉至法院。被告王恒庆经法院传票合法传唤未到庭，其已放弃答辩和质证的权利。原告提供的证据有：2015年4月15日王恒庆写的借条两份。\n",
      "608689\n"
     ]
    }
   ],
   "source": [
    "with open(\"/home/peitian_zhang/Data/wenshu/p2-1.filtered.txt\") as f:\n",
    "    for i, line in enumerate(f):\n",
    "        case = json.loads(line)\n",
    "        if \"\"\"陈文广与王恒庆民间借贷纠纷一审民事判决书\"\"\".replace(\"\\n\",\"\") in line:\n",
    "            print(case[\"tf_content\"])\n",
    "            print(i)"
   ]
  },
  {
   "cell_type": "code",
   "execution_count": 6,
   "metadata": {},
   "outputs": [
    {
     "name": "stdout",
     "output_type": "stream",
     "text": [
      "赵某诉被告离婚纠纷一案，2012年4月28日，本院（2012）凤翔民初字第388号民事判决书认定夫妻共同债务中，赵某和被告借原告5000元，判决由被告清偿。判决生效后，原告向被告催要无果，遂于2012年12月20日状诉来院，要求被告清偿其借款5000元。上述事实，有以下证据在案佐证，事实清楚，足以认定。1、原告提供本院（2012）凤翔民初字第388号民事判决书一份，证明赵某诉被告离婚纠纷一案，2012年4月28日，本院（2012）凤翔民初字第388号民事判决书认定夫妻共同债务中，赵某和被告借原告5000元，判决由被告清偿；2、原、被告当庭陈述。\n"
     ]
    }
   ],
   "source": [
    "with open(\"/home/peitian_zhang/Data/wenshu/p2-1.filtered.txt\") as f:\n",
    "    for i, line in enumerate(f):\n",
    "        case = json.loads(line)\n",
    "        if \"赵某诉被告离婚纠纷一案，2012年4月28日，本院（2012）凤翔民初字第388号民事判决书\" in line:\n",
    "            print(case[\"tf_content\"])\n",
    "            break"
   ]
  },
  {
   "cell_type": "code",
   "execution_count": 4,
   "metadata": {},
   "outputs": [],
   "source": [
    "a = model._encode(\"\"\"\n",
    "\n",
    "2016年2月26日，原告的员工郑洲招用被告到原告工地做工，并签订劳动合同。被告工作的时间是2016年2月26日至2016年9月21日。2016年9月26日，被告与原告决算，拿工钱离开。被告在工作期间由郑洲管理。\n",
    "庭审中，原告举示借条，该借条主要载明：今收到原告支付中交·锦悦一期二组团三标段工程5#楼（二十层-三十层）木工班组借款，金额5000元。被告在领款人签字处签名，时间为2016年8月26日。借条上有原告公章。被告质证称借条上确实是被告签名，但是出具借条时原告公司没有加盖公章，原告公司的公章是工程结束做决算时，原告在工资中抵扣了该笔款项后加盖的。\n",
    "庭审中，本院向原、被告释明，本案不属于民间借贷或借款合同法律关系，原告与被告存在劳动关系，本案应属劳动争议。原告当庭表示不认可本院的释明，坚持本案属于民间借贷纠纷，仍坚持以民间借贷法律关系提出请求。\n",
    "上述事实，有借条、重庆市江北区人民法院庭审笔录2份以及当事人的陈述等证据在卷佐证，并经庭审质证。\n",
    "\n",
    "\"\"\".replace(\"\\n\", \"\"))"
   ]
  },
  {
   "cell_type": "code",
   "execution_count": 5,
   "metadata": {},
   "outputs": [],
   "source": [
    "b = model._encode(\"\"\"\n",
    "\n",
    "2016年2月26日，原告的员工郑洲招用被告到原告工地做工，并签订劳动合同。被告工作的时间是2016年2月26日至2016年9月21日。2016年9月26日，被告与原告决算，拿工钱离开。被告在工作期间由郑洲管理。\n",
    "庭审中，原告举示借条，该借条主要载明：今收到原告支付中交·锦悦一期二组团三标段工程5#楼（二十层-三十层）木工班组借款，金额5000元。被告在领款人签字处签名，时间为2016年8月26日。借条上有原告公章。被告质证称借条上确实是被告签名，但是出具借条时原告公司没有加盖公章，原告公司的公章是工程结束做决算时，原告在工资中抵扣了该笔款项后加盖的。\n",
    "庭审中，本院向原、被告释明，本案不属于民间借贷或借款合同法律关系，原告与被告存在劳动关系，本案应属劳动争议。原告当庭表示不认可本院的释明，坚持本案属于民间借贷纠纷，仍坚持以民间借贷法律关系提出请求。\n",
    "上述事实，有借条、重庆市江北区人民法院庭审笔录2份以及当事人的陈述等证据在卷佐证，并经庭审质证。\n",
    "\n",
    "\"\"\".replace(\"\\n\", \"\"))"
   ]
  },
  {
   "cell_type": "code",
   "execution_count": 6,
   "metadata": {},
   "outputs": [
    {
     "data": {
      "text/plain": [
       "tensor([1.0000])"
      ]
     },
     "execution_count": 6,
     "metadata": {},
     "output_type": "execute_result"
    }
   ],
   "source": [
    "a @ b.squeeze()"
   ]
  },
  {
   "cell_type": "code",
   "execution_count": null,
   "metadata": {},
   "outputs": [],
   "source": []
  }
 ],
 "metadata": {
  "kernelspec": {
   "display_name": "Python 3.9.12 64-bit ('anaconda3')",
   "language": "python",
   "name": "python3"
  },
  "language_info": {
   "codemirror_mode": {
    "name": "ipython",
    "version": 3
   },
   "file_extension": ".py",
   "mimetype": "text/x-python",
   "name": "python",
   "nbconvert_exporter": "python",
   "pygments_lexer": "ipython3",
   "version": "3.9.12"
  },
  "orig_nbformat": 4,
  "vscode": {
   "interpreter": {
    "hash": "1503cdd91ea0d04eda8d54dcfeb189f484546186126a35f1f50d5735cb41faf8"
   }
  }
 },
 "nbformat": 4,
 "nbformat_minor": 2
}
