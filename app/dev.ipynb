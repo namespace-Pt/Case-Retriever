{
 "cells": [
  {
   "cell_type": "code",
   "execution_count": null,
   "metadata": {},
   "outputs": [],
   "source": [
    "import re\n",
    "import os\n",
    "import json\n",
    "import numpy as np\n",
    "from tqdm import tqdm\n",
    "from elasticsearch import Elasticsearch\n",
    "from elasticsearch.helpers import bulk\n",
    "\n",
    "# Create the elastic instance\n",
    "elastic = Elasticsearch(\n",
    "    \"http://localhost:9200\",\n",
    "    request_timeout=1000000\n",
    ")\n",
    "\n",
    "# Successful response!\n",
    "elastic.info()"
   ]
  },
  {
   "cell_type": "code",
   "execution_count": null,
   "metadata": {},
   "outputs": [],
   "source": [
    "emb = np.random.rand(768).astype(np.float32)\n",
    "\n",
    "elastic.search(\n",
    "    index=\"wenshu\",\n",
    "    size=2,\n",
    "    from_=0,\n",
    "    _source=False,\n",
    "    fields=[\"case_name\", \"content\", {\"field\": \"publish_date\", \"format\": \"year_month_day\"}, \"court_name\", \"case_type\"],\n",
    "    # query={\n",
    "    #     \"combined_fields\": {\n",
    "    #         \"query\": \"测试\",\n",
    "    #         \"fields\": [\"case_name\", \"content\"]\n",
    "    #     }\n",
    "    # },\n",
    "    aggs={\n",
    "        \"agg-court\": {\n",
    "            \"terms\": {\n",
    "                \"field\": \"court_name\"\n",
    "            }\n",
    "        }\n",
    "    },\n",
    "    knn={\n",
    "        \"field\": \"vector\",\n",
    "        \"query_vector\": (emb / np.linalg.norm(emb)).tolist(),\n",
    "        \"k\": 10,\n",
    "        \"num_candidates\": 10,\n",
    "        # \"boost\": 1\n",
    "    },\n",
    "    # highlight={\n",
    "    #     \"fields\": {\n",
    "    #         \"content\": {\n",
    "    #             \"pre_tags\" : [\"<strong>\"],\n",
    "    #             \"post_tags\": [\"</strong>\"],\n",
    "    #             \"number_of_fragments\": 1,\n",
    "    #         }\n",
    "    #     }\n",
    "    # },\n",
    "    post_filter={\n",
    "        \"bool\": {\n",
    "            \"filter\": [\n",
    "                {\n",
    "                    \"terms\": {\"court_name\": [\"上海市长宁区人民法院\"]}\n",
    "                }\n",
    "            ]\n",
    "        }\n",
    "    }\n",
    ")[\"hits\"]"
   ]
  },
  {
   "cell_type": "code",
   "execution_count": null,
   "metadata": {},
   "outputs": [],
   "source": [
    "file = \"p5.filtered\"\n",
    "embeddings = np.memmap(\n",
    "    os.path.join(\"data/encode\", \"DPR\", \"wenshu\", file, \"text_embeddings.mmp\"),\n",
    "    dtype=np.float32,\n",
    "    mode=\"r\"\n",
    ").reshape(-1, 768)\n",
    "\n",
    "def gendata():\n",
    "    with open(f\"../../../Data/wenshu/{file}.txt\", encoding=\"utf-8\") as f:\n",
    "        for i, line in enumerate(f):\n",
    "            case = json.loads(line.strip())\n",
    "            del case[\"crawl_time\"]\n",
    "            del case[\"legal_base\"]\n",
    "            del case[\"tf_content\"]\n",
    "            del case[\"id\"]\n",
    "            case[\"vector\"] = embeddings[i].tolist()\n",
    "            yield case\n",
    "\n",
    "for x in tqdm(gendata(), desc=\"Indexing\", total=embeddings.shape[0]):\n",
    "    elastic.index(index=\"wenshu\", document=x)"
   ]
  },
  {
   "cell_type": "code",
   "execution_count": null,
   "metadata": {},
   "outputs": [],
   "source": [
    "elastic.indices.create(\n",
    "    index=\"wenshu\",\n",
    "    settings={\n",
    "        'analysis': {\n",
    "            'analyzer': {\n",
    "                # we must set the default analyzer\n",
    "                \"default\": {\n",
    "                    \"type\": \"smartcn\"\n",
    "                }\n",
    "            }\n",
    "        },\n",
    "        \"index.mapping.ignore_malformed\": True\n",
    "    },\n",
    "    mappings={\n",
    "        \"properties\": {\n",
    "            # field name\n",
    "            \"doc_id\": {\n",
    "                \"type\": \"keyword\",\n",
    "            },\n",
    "            \"court_name\": {\n",
    "                \"type\": \"keyword\",\n",
    "            },\n",
    "            \"court_id\": {\n",
    "                \"type\": \"keyword\",\n",
    "            },\n",
    "            \"court_province\": {\n",
    "                \"type\": \"keyword\",\n",
    "            },\n",
    "            \"court_city\": {\n",
    "                \"type\": \"keyword\",\n",
    "            },\n",
    "            \"court_region\": {\n",
    "                \"type\": \"keyword\",\n",
    "            },\n",
    "            \"court_district\": {\n",
    "                \"type\": \"keyword\"\n",
    "            },\n",
    "            \"pub_prosecution_org\": {\n",
    "                \"type\": \"keyword\"\n",
    "            },\n",
    "            \"case_type\": {\n",
    "                \"type\": \"keyword\",\n",
    "            },\n",
    "            \"cause\": {\n",
    "                \"type\": \"keyword\",\n",
    "            },\n",
    "            \"trial_round\": {\n",
    "                \"type\": \"keyword\"\n",
    "            },\n",
    "            \"content\": {\n",
    "                \"type\": \"text\"\n",
    "            },\n",
    "            \"vector\": {\n",
    "                \"type\": \"dense_vector\",\n",
    "                \"dims\": 768,\n",
    "                # enable hnsw\n",
    "                \"index\": True,\n",
    "                # inner product only allows unit-length vector\n",
    "                \"similarity\": \"dot_product\"  \n",
    "            }\n",
    "        }\n",
    "    }\n",
    ")"
   ]
  },
  {
   "cell_type": "code",
   "execution_count": null,
   "metadata": {},
   "outputs": [],
   "source": [
    "# test chinese index\n",
    "elastic.indices.analyze(index=\"test-chinese\", text=\"中国人民大学\")"
   ]
  },
  {
   "cell_type": "code",
   "execution_count": null,
   "metadata": {},
   "outputs": [],
   "source": [
    "# delete index\n",
    "elastic.indices.delete(index=\"wenshu\")"
   ]
  },
  {
   "cell_type": "code",
   "execution_count": null,
   "metadata": {},
   "outputs": [],
   "source": [
    "elastic.indices.get_alias(index=\"*\")"
   ]
  },
  {
   "cell_type": "code",
   "execution_count": null,
   "metadata": {},
   "outputs": [],
   "source": [
    "elastic.search(\n",
    "    index=\"wenshu\",\n",
    "    query={\n",
    "        \"match_all\": {}\n",
    "    }\n",
    ")[\"hits\"][\"hits\"]"
   ]
  },
  {
   "cell_type": "code",
   "execution_count": 2,
   "metadata": {},
   "outputs": [
    {
     "data": {
      "text/plain": [
       "ObjectApiResponse({'took': 2594, 'timed_out': False, 'total': 9248, 'deleted': 9248, 'batches': 10, 'version_conflicts': 0, 'noops': 0, 'retries': {'bulk': 0, 'search': 0}, 'throttled_millis': 0, 'requests_per_second': -1.0, 'throttled_until_millis': 0, 'failures': []})"
      ]
     },
     "execution_count": 2,
     "metadata": {},
     "output_type": "execute_result"
    }
   ],
   "source": [
    "elastic.delete_by_query(\n",
    "    index=\"wenshu\", \n",
    "    query={\n",
    "        \"match_all\": {}\n",
    "    }\n",
    ")"
   ]
  },
  {
   "cell_type": "code",
   "execution_count": 8,
   "metadata": {},
   "outputs": [
    {
     "name": "stderr",
     "output_type": "stream",
     "text": [
      "10451it [00:02, 3916.21it/s]\n"
     ]
    },
    {
     "data": {
      "text/plain": [
       "1157"
      ]
     },
     "execution_count": 8,
     "metadata": {},
     "output_type": "execute_result"
    }
   ],
   "source": [
    "# filter text\n",
    "skipped = 0\n",
    "file = \"p5\"\n",
    "with open(f\"../../../Data/wenshu/{file}.txt\", encoding=\"utf-8\") as f, open(f\"../../../Data/wenshu/{file}.filtered.txt\", \"w\", encoding=\"utf-8\") as g:\n",
    "    for i, line in enumerate(tqdm(f)):\n",
    "        fields = json.loads(line.strip())\n",
    "\n",
    "        if fields[\"basics_text\"]:\n",
    "            content = fields[\"basics_text\"].replace(\"/n\", \"\")\n",
    "        else:\n",
    "            content = fields[\"content\"]\n",
    "            if not content:\n",
    "                skipped += 1\n",
    "                continue\n",
    "            else:\n",
    "                content = content.replace(\"\\n\", \"\")\n",
    "                for x in (\"指控：\", \"指控，\", \"查明：\", \"查明，\", \"诉称：\", \"诉称，\", \"请求：\", \"理由：\", \"认定：\", \"认定:\", \"认定，\", \"查认为，\"):\n",
    "                    idx = content.rfind(x)\n",
    "                    if idx != -1:\n",
    "                        break\n",
    "                if idx == -1:\n",
    "                    skipped += 1\n",
    "                    # print(content)\n",
    "                    # if skipped > 10:\n",
    "                    #     break\n",
    "                    continue\n",
    "                else:\n",
    "                    content = content[idx:]\n",
    "        # write filter content to a new field\n",
    "        fields[\"tf_content\"] = content\n",
    "        g.write(json.dumps(fields, ensure_ascii=False) + \"\\n\")\n",
    "\n",
    "skipped"
   ]
  },
  {
   "cell_type": "code",
   "execution_count": null,
   "metadata": {},
   "outputs": [],
   "source": [
    "elastic.search(\n",
    "    index=\"wenshu\",\n",
    "    query={\n",
    "        \"match_all\": {}\n",
    "    },\n",
    "    size=1,\n",
    "    sort=[\n",
    "        {\n",
    "        \"_timestamp\": {\n",
    "            \"order\": \"desc\"\n",
    "        }\n",
    "        }\n",
    "    ]\n",
    ")[\"hits\"]"
   ]
  },
  {
   "cell_type": "code",
   "execution_count": null,
   "metadata": {},
   "outputs": [],
   "source": [
    "elastic.count(\n",
    "    index=\"wenshu\",\n",
    "    query={\n",
    "        \"match_all\": {\n",
    "        }\n",
    "    }\n",
    ")"
   ]
  },
  {
   "cell_type": "code",
   "execution_count": null,
   "metadata": {},
   "outputs": [],
   "source": []
  }
 ],
 "metadata": {
  "kernelspec": {
   "display_name": "Python 3.9.12 ('base')",
   "language": "python",
   "name": "python3"
  },
  "language_info": {
   "codemirror_mode": {
    "name": "ipython",
    "version": 3
   },
   "file_extension": ".py",
   "mimetype": "text/x-python",
   "name": "python",
   "nbconvert_exporter": "python",
   "pygments_lexer": "ipython3",
   "version": "3.9.12"
  },
  "orig_nbformat": 4,
  "vscode": {
   "interpreter": {
    "hash": "d04ced9d2f3d780184266d6c04c38b10d0bc5dc91923fa3055e4cade559214a7"
   }
  }
 },
 "nbformat": 4,
 "nbformat_minor": 2
}
