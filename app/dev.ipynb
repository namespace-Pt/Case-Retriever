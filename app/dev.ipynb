{
 "cells": [
  {
   "cell_type": "code",
   "execution_count": null,
   "metadata": {},
   "outputs": [],
   "source": [
    "import os\n",
    "import numpy as np\n",
    "from tqdm import tqdm\n",
    "from elasticsearch import Elasticsearch\n",
    "from elasticsearch.helpers import bulk\n",
    "\n",
    "# Create the client instance\n",
    "client = Elasticsearch(\n",
    "    \"http://localhost:9200\",\n",
    "    request_timeout=100000\n",
    ")\n",
    "\n",
    "# Successful response!\n",
    "client.info()"
   ]
  },
  {
   "cell_type": "code",
   "execution_count": 11,
   "metadata": {},
   "outputs": [
    {
     "data": {
      "text/plain": [
       "ObjectApiResponse({'acknowledged': True, 'shards_acknowledged': True, 'index': 'lecard'})"
      ]
     },
     "execution_count": 11,
     "metadata": {},
     "output_type": "execute_result"
    }
   ],
   "source": [
    "# create lecard index\n",
    "client.indices.create(\n",
    "    index=\"lecard\", \n",
    "    settings={\n",
    "        'analysis': {\n",
    "            'analyzer': {\n",
    "                # we must set the default analyzer\n",
    "                \"default\": {\n",
    "                    \"type\": \"smartcn\"\n",
    "                }\n",
    "            }\n",
    "        }\n",
    "    },\n",
    "    mappings={\n",
    "        \"properties\": {\n",
    "            # field name\n",
    "            \"vector\": {\n",
    "                \"type\": \"dense_vector\",\n",
    "                \"dims\": 768,\n",
    "                # enable hnsw\n",
    "                \"index\": True,\n",
    "                # inner product is prohibitive since it only allows unit-length vector\n",
    "                \"similarity\": \"l2_norm\"\n",
    "            }\n",
    "        }\n",
    "    }\n",
    ")"
   ]
  },
  {
   "cell_type": "code",
   "execution_count": null,
   "metadata": {},
   "outputs": [],
   "source": [
    "client.search(\n",
    "    index=\"test-english\", \n",
    "    query={\n",
    "        \"combined_fields\": {\n",
    "            \"query\": \"one\",\n",
    "            \"fields\": [\"title\", \"abstract\"],\n",
    "        }\n",
    "    },\n",
    "    highlight={\n",
    "        \"fields\": {\n",
    "            \"title\": {\n",
    "                \"pre_tags\" : [\"<em class='text-primary'>\"],\n",
    "                \"post_tags\": [\"</em>\"]\n",
    "            },\n",
    "            \"abstract\": {\n",
    "                \"pre_tags\" : [\"<em class='text-primary'>\"],\n",
    "                \"post_tags\": [\"</em>\"]\n",
    "            }\n",
    "        }\n",
    "    }\n",
    ")"
   ]
  },
  {
   "cell_type": "code",
   "execution_count": 14,
   "metadata": {},
   "outputs": [
    {
     "ename": "BadRequestError",
     "evalue": "BadRequestError(400, 'x_content_parse_exception', '[1:14818] [knn-search] failed to parse field [knn]')",
     "output_type": "error",
     "traceback": [
      "\u001b[1;31m---------------------------------------------------------------------------\u001b[0m",
      "\u001b[1;31mBadRequestError\u001b[0m                           Traceback (most recent call last)",
      "\u001b[1;32m~\\AppData\\Local\\Temp/ipykernel_27876/1036388864.py\u001b[0m in \u001b[0;36m<module>\u001b[1;34m\u001b[0m\n\u001b[1;32m----> 1\u001b[1;33m client.knn_search(\n\u001b[0m\u001b[0;32m      2\u001b[0m     \u001b[0mindex\u001b[0m\u001b[1;33m=\u001b[0m\u001b[1;34m\"lecard\"\u001b[0m\u001b[1;33m,\u001b[0m\u001b[1;33m\u001b[0m\u001b[1;33m\u001b[0m\u001b[0m\n\u001b[0;32m      3\u001b[0m     knn={\n\u001b[0;32m      4\u001b[0m         \u001b[1;34m\"field\"\u001b[0m\u001b[1;33m:\u001b[0m \u001b[1;34m\"vector\"\u001b[0m\u001b[1;33m,\u001b[0m\u001b[1;33m\u001b[0m\u001b[1;33m\u001b[0m\u001b[0m\n\u001b[0;32m      5\u001b[0m         \u001b[1;34m\"query_vector\"\u001b[0m\u001b[1;33m:\u001b[0m \u001b[0mnp\u001b[0m\u001b[1;33m.\u001b[0m\u001b[0mrandom\u001b[0m\u001b[1;33m.\u001b[0m\u001b[0mrand\u001b[0m\u001b[1;33m(\u001b[0m\u001b[1;36m768\u001b[0m\u001b[1;33m)\u001b[0m\u001b[1;33m.\u001b[0m\u001b[0mastype\u001b[0m\u001b[1;33m(\u001b[0m\u001b[0mnp\u001b[0m\u001b[1;33m.\u001b[0m\u001b[0mfloat32\u001b[0m\u001b[1;33m)\u001b[0m\u001b[1;33m.\u001b[0m\u001b[0mtolist\u001b[0m\u001b[1;33m(\u001b[0m\u001b[1;33m)\u001b[0m\u001b[1;33m,\u001b[0m\u001b[1;33m\u001b[0m\u001b[1;33m\u001b[0m\u001b[0m\n",
      "\u001b[1;32md:\\Apps\\Anaconda\\lib\\site-packages\\elasticsearch\\_sync\\client\\utils.py\u001b[0m in \u001b[0;36mwrapped\u001b[1;34m(*args, **kwargs)\u001b[0m\n\u001b[0;32m    412\u001b[0m                         \u001b[1;32mpass\u001b[0m\u001b[1;33m\u001b[0m\u001b[1;33m\u001b[0m\u001b[0m\n\u001b[0;32m    413\u001b[0m \u001b[1;33m\u001b[0m\u001b[0m\n\u001b[1;32m--> 414\u001b[1;33m             \u001b[1;32mreturn\u001b[0m \u001b[0mapi\u001b[0m\u001b[1;33m(\u001b[0m\u001b[1;33m*\u001b[0m\u001b[0margs\u001b[0m\u001b[1;33m,\u001b[0m \u001b[1;33m**\u001b[0m\u001b[0mkwargs\u001b[0m\u001b[1;33m)\u001b[0m\u001b[1;33m\u001b[0m\u001b[1;33m\u001b[0m\u001b[0m\n\u001b[0m\u001b[0;32m    415\u001b[0m \u001b[1;33m\u001b[0m\u001b[0m\n\u001b[0;32m    416\u001b[0m         \u001b[1;32mreturn\u001b[0m \u001b[0mwrapped\u001b[0m  \u001b[1;31m# type: ignore[return-value]\u001b[0m\u001b[1;33m\u001b[0m\u001b[1;33m\u001b[0m\u001b[0m\n",
      "\u001b[1;32md:\\Apps\\Anaconda\\lib\\site-packages\\elasticsearch\\_sync\\client\\__init__.py\u001b[0m in \u001b[0;36mknn_search\u001b[1;34m(self, index, knn, docvalue_fields, error_trace, fields, filter, filter_path, human, pretty, routing, source, stored_fields)\u001b[0m\n\u001b[0;32m   2374\u001b[0m         \u001b[1;32mif\u001b[0m \u001b[0m__body\u001b[0m \u001b[1;32mis\u001b[0m \u001b[1;32mnot\u001b[0m \u001b[1;32mNone\u001b[0m\u001b[1;33m:\u001b[0m\u001b[1;33m\u001b[0m\u001b[1;33m\u001b[0m\u001b[0m\n\u001b[0;32m   2375\u001b[0m             \u001b[0m__headers\u001b[0m\u001b[1;33m[\u001b[0m\u001b[1;34m\"content-type\"\u001b[0m\u001b[1;33m]\u001b[0m \u001b[1;33m=\u001b[0m \u001b[1;34m\"application/json\"\u001b[0m\u001b[1;33m\u001b[0m\u001b[1;33m\u001b[0m\u001b[0m\n\u001b[1;32m-> 2376\u001b[1;33m         return self.perform_request(  # type: ignore[return-value]\n\u001b[0m\u001b[0;32m   2377\u001b[0m             \u001b[1;34m\"POST\"\u001b[0m\u001b[1;33m,\u001b[0m \u001b[0m__path\u001b[0m\u001b[1;33m,\u001b[0m \u001b[0mparams\u001b[0m\u001b[1;33m=\u001b[0m\u001b[0m__query\u001b[0m\u001b[1;33m,\u001b[0m \u001b[0mheaders\u001b[0m\u001b[1;33m=\u001b[0m\u001b[0m__headers\u001b[0m\u001b[1;33m,\u001b[0m \u001b[0mbody\u001b[0m\u001b[1;33m=\u001b[0m\u001b[0m__body\u001b[0m\u001b[1;33m\u001b[0m\u001b[1;33m\u001b[0m\u001b[0m\n\u001b[0;32m   2378\u001b[0m         )\n",
      "\u001b[1;32md:\\Apps\\Anaconda\\lib\\site-packages\\elasticsearch\\_sync\\client\\_base.py\u001b[0m in \u001b[0;36mperform_request\u001b[1;34m(self, method, path, params, headers, body)\u001b[0m\n\u001b[0;32m    319\u001b[0m                     \u001b[1;32mpass\u001b[0m\u001b[1;33m\u001b[0m\u001b[1;33m\u001b[0m\u001b[0m\n\u001b[0;32m    320\u001b[0m \u001b[1;33m\u001b[0m\u001b[0m\n\u001b[1;32m--> 321\u001b[1;33m             raise HTTP_EXCEPTIONS.get(meta.status, ApiError)(\n\u001b[0m\u001b[0;32m    322\u001b[0m                 \u001b[0mmessage\u001b[0m\u001b[1;33m=\u001b[0m\u001b[0mmessage\u001b[0m\u001b[1;33m,\u001b[0m \u001b[0mmeta\u001b[0m\u001b[1;33m=\u001b[0m\u001b[0mmeta\u001b[0m\u001b[1;33m,\u001b[0m \u001b[0mbody\u001b[0m\u001b[1;33m=\u001b[0m\u001b[0mresp_body\u001b[0m\u001b[1;33m\u001b[0m\u001b[1;33m\u001b[0m\u001b[0m\n\u001b[0;32m    323\u001b[0m             )\n",
      "\u001b[1;31mBadRequestError\u001b[0m: BadRequestError(400, 'x_content_parse_exception', '[1:14818] [knn-search] failed to parse field [knn]')"
     ]
    }
   ],
   "source": [
    "client.knn_search(\n",
    "    index=\"lecard\", \n",
    "    knn={\n",
    "        \"field\": \"vector\",\n",
    "        \"query_vector\": np.random.rand(768).astype(np.float32).tolist(),\n",
    "        \"k\": 10,\n",
    "        \"num_candidates\": 10\n",
    "    },\n",
    "    source=[\"title\", \"abstract\"]\n",
    ")[\"hits\"][\"hits\"]"
   ]
  },
  {
   "cell_type": "code",
   "execution_count": null,
   "metadata": {},
   "outputs": [],
   "source": [
    "# add demo english documents\n",
    "def gendata():\n",
    "    num2word = {0: 'Zero', 1: 'One', 2: 'Two', 3: 'Three', 4: 'Four', 5: 'Five', \\\n",
    "            6: 'Six', 7: 'Seven', 8: 'Eight', 9: 'Nine', 10: 'Ten', \\\n",
    "            11: 'Eleven', 12: 'Twelve', 13: 'Thirteen', 14: 'Fourteen', \\\n",
    "            15: 'Fifteen', 16: 'Sixteen', 17: 'Seventeen', 18: 'Eighteen', 19: 'Nineteen'}\n",
    "\n",
    "    for i in range(10):\n",
    "        yield {\n",
    "            \"_index\": \"test-english\",\n",
    "            \"title\": f\"this is the {num2word[i]} title\",\n",
    "            \"abstract\": f\"this is the {num2word[i]} abstract\",\n",
    "            \"body\": f\"this is the {num2word[i]} body\"\n",
    "        }\n",
    "\n",
    "bulk(client, gendata())"
   ]
  },
  {
   "cell_type": "code",
   "execution_count": null,
   "metadata": {},
   "outputs": [],
   "source": [
    "# add demo chinese documents\n",
    "def gendata():\n",
    "    num2word = {0: '零', 1: '一', 2: '二', 3: '三', 4: '四', 5: '五', \\\n",
    "            6: 'Six', 7: 'Seven', 8: 'Eight', 9: 'Nine', 10: 'Ten', \\\n",
    "            11: 'Eleven', 12: 'Twelve', 13: 'Thirteen', 14: 'Fourteen', \\\n",
    "            15: 'Fifteen', 16: 'Sixteen', 17: 'Seventeen', 18: 'Eighteen', 19: 'Nineteen'}\n",
    "\n",
    "    for i in range(6):\n",
    "        yield {\n",
    "            \"_index\": \"test-chinese\",\n",
    "            \"title\": f\"这是第{num2word[i]}篇文章的标题\",\n",
    "            \"abstract\": f\"这是第{num2word[i]}篇文章的摘要\",\n",
    "            \"body\": f\"这是第{num2word[i]}篇文章的正文\"\n",
    "        }\n",
    "bulk(client, gendata())"
   ]
  },
  {
   "cell_type": "code",
   "execution_count": 12,
   "metadata": {},
   "outputs": [
    {
     "name": "stderr",
     "output_type": "stream",
     "text": [
      "indexing...: 100%|██████████| 10718/10718 [02:50<00:00, 62.77it/s] \n"
     ]
    },
    {
     "data": {
      "text/plain": [
       "(10718, [])"
      ]
     },
     "execution_count": 12,
     "metadata": {},
     "output_type": "execute_result"
    }
   ],
   "source": [
    "# add lecard documents\n",
    "def gendata():\n",
    "    model = \"DPR\"\n",
    "    dim = 768\n",
    "    embeddings = np.memmap(\n",
    "        os.path.join(\"data/encode\", model, \"text_embeddings.mmp\"),\n",
    "        dtype=np.float32,\n",
    "        mode=\"r\"\n",
    "    ).reshape(-1, dim)\n",
    "    \n",
    "    with open(\"D:\\Data\\lecard\\collection.tsv\", encoding=\"utf-8\") as f:\n",
    "        for i, line in enumerate(tqdm(f, desc=\"indexing...\", total=embeddings.shape[0])):\n",
    "            fields = line.strip().split(\"\\t\")\n",
    "            yield {\n",
    "                \"_index\": \"lecard\",\n",
    "                \"title\": fields[1],\n",
    "                \"abstract\": fields[2],\n",
    "                \"body\": fields[3],\n",
    "                \"vector\": embeddings[i].tolist()\n",
    "            }\n",
    "bulk(client, gendata())"
   ]
  },
  {
   "cell_type": "code",
   "execution_count": null,
   "metadata": {},
   "outputs": [],
   "source": [
    "# add demo vectors\n",
    "def gendata():\n",
    "    num2word = {0: '零', 1: '一', 2: '二', 3: '三', 4: '四', 5: '五'}\n",
    "\n",
    "    for i in range(6):\n",
    "        yield {\n",
    "            \"_index\": \"test-vector\",\n",
    "            \"title\": f\"这是第{num2word[i]}篇文章的标题\",\n",
    "            \"abstract\": f\"这是第{num2word[i]}篇文章的摘要\",\n",
    "            \"body\": f\"这是第{num2word[i]}篇文章的正文\",\n",
    "            \"vector\": np.random.rand(768).astype(np.float16).tolist()\n",
    "        }\n",
    "bulk(client, gendata())"
   ]
  },
  {
   "cell_type": "code",
   "execution_count": null,
   "metadata": {},
   "outputs": [],
   "source": [
    "# test chinese index\n",
    "client.indices.analyze(index=\"test-chinese\", text=\"中国人民大学\")"
   ]
  },
  {
   "cell_type": "code",
   "execution_count": null,
   "metadata": {},
   "outputs": [],
   "source": [
    "# delete index\n",
    "client.indices.delete(index=\"lecard\")"
   ]
  },
  {
   "cell_type": "code",
   "execution_count": null,
   "metadata": {},
   "outputs": [],
   "source": [
    "client.delete_by_query(\n",
    "    index=\"test-vector\", \n",
    "    query={\n",
    "        \"match_all\": {}\n",
    "    }\n",
    ")"
   ]
  }
 ],
 "metadata": {
  "kernelspec": {
   "display_name": "Python 3.9.7 ('base')",
   "language": "python",
   "name": "python3"
  },
  "language_info": {
   "codemirror_mode": {
    "name": "ipython",
    "version": 3
   },
   "file_extension": ".py",
   "mimetype": "text/x-python",
   "name": "python",
   "nbconvert_exporter": "python",
   "pygments_lexer": "ipython3",
   "version": "3.9.7"
  },
  "orig_nbformat": 4,
  "vscode": {
   "interpreter": {
    "hash": "d04ced9d2f3d780184266d6c04c38b10d0bc5dc91923fa3055e4cade559214a7"
   }
  }
 },
 "nbformat": 4,
 "nbformat_minor": 2
}
