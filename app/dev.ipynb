{
 "cells": [
  {
   "cell_type": "code",
   "execution_count": 9,
   "metadata": {},
   "outputs": [
    {
     "data": {
      "text/plain": [
       "ObjectApiResponse({'name': 'PT-LAPTOP', 'cluster_name': 'elasticsearch', 'cluster_uuid': 'VEFspzOtRu6pZW2yB-lWog', 'version': {'number': '8.3.2', 'build_type': 'zip', 'build_hash': '8b0b1f23fbebecc3c88e4464319dea8989f374fd', 'build_date': '2022-07-06T15:15:15.901688194Z', 'build_snapshot': False, 'lucene_version': '9.2.0', 'minimum_wire_compatibility_version': '7.17.0', 'minimum_index_compatibility_version': '7.0.0'}, 'tagline': 'You Know, for Search'})"
      ]
     },
     "execution_count": 9,
     "metadata": {},
     "output_type": "execute_result"
    }
   ],
   "source": [
    "import os\n",
    "import json\n",
    "import numpy as np\n",
    "from tqdm import tqdm\n",
    "from elasticsearch import Elasticsearch\n",
    "from elasticsearch.helpers import bulk\n",
    "\n",
    "# Create the elastic instance\n",
    "elastic = Elasticsearch(\n",
    "    \"http://localhost:9200\",\n",
    "    request_timeout=1000000\n",
    ")\n",
    "\n",
    "# Successful response!\n",
    "elastic.info()"
   ]
  },
  {
   "cell_type": "code",
   "execution_count": 12,
   "metadata": {},
   "outputs": [
    {
     "data": {
      "text/plain": [
       "{'value': 223, 'relation': 'eq'}"
      ]
     },
     "execution_count": 12,
     "metadata": {},
     "output_type": "execute_result"
    }
   ],
   "source": [
    "elastic.search(\n",
    "    index=\"wenshu\",\n",
    "    size=2,\n",
    "    from_=0,\n",
    "    _source=True,\n",
    "    fields=[\"case_name\", \"content\", {\"field\": \"publish_date\", \"format\": \"year_month_day\"}, \"court_name\"],\n",
    "    query={\n",
    "        \"combined_fields\": {\n",
    "            \"query\": \"测试\",\n",
    "            \"fields\": [\"case_name\", \"content\"]\n",
    "        }\n",
    "    },\n",
    "    aggs={\n",
    "        \"agg-court\": {\n",
    "            \"terms\": {\n",
    "                \"field\": \"court\"\n",
    "            }\n",
    "        }\n",
    "    },\n",
    "    # highlight={\n",
    "    #     \"fields\": {\n",
    "    #         \"content\": {\n",
    "    #             \"pre_tags\" : [\"<strong>\"],\n",
    "    #             \"post_tags\": [\"</strong>\"],\n",
    "    #             \"number_of_fragments\": 1,\n",
    "    #         }\n",
    "    #     }\n",
    "    # },\n",
    "    # post_filter={\n",
    "    #     \"bool\": {\n",
    "    #         \"filter\": [\n",
    "    #             {\n",
    "    #                 \"terms\": {\"court_name\": [\"德阳市中级人民法院\"]}\n",
    "    #             },\n",
    "    #             {\n",
    "    #                 \"terms\": {\"case_type\": [\"管辖案件\"]}\n",
    "    #             }\n",
    "    #         ]\n",
    "    #     }\n",
    "    # }\n",
    ")[\"hits\"][\"total\"]"
   ]
  },
  {
   "cell_type": "code",
   "execution_count": null,
   "metadata": {},
   "outputs": [],
   "source": [
    "elastic.knn_search(\n",
    "    index=\"lecard\", \n",
    "    knn={\n",
    "        \"field\": \"vector\",\n",
    "        \"query_vector\": np.random.rand(768).astype(np.float32).tolist(),\n",
    "        \"k\": 10,\n",
    "        \"num_candidates\": 10\n",
    "    },\n",
    "    source=[\"title\", \"abstract\"]\n",
    ")[\"hits\"]"
   ]
  },
  {
   "cell_type": "code",
   "execution_count": null,
   "metadata": {},
   "outputs": [],
   "source": [
    "def gendata():\n",
    "    model = \"DPR\"\n",
    "    dim = 768\n",
    "    embeddings = np.memmap(\n",
    "        os.path.join(\"data/encode\", model, \"wenshu\", \"text_embeddings.mmp\"),\n",
    "        dtype=np.float32,\n",
    "        mode=\"r\"\n",
    "    ).reshape(-1, dim)\n",
    "\n",
    "    with open(\"/home/peitian_zhang/Data/wenshu/wenshu1.json\", encoding=\"utf-8\") as f:\n",
    "        for i, line in enumerate(tqdm(f, desc=\"Indexing\", total=100000)):\n",
    "            case = json.loads(line.strip())\n",
    "            case[\"_index\"] = \"test-wenshu\"\n",
    "            case[\"vector\"] = embeddings[i].tolist()\n",
    "            yield case\n",
    "bulk(elastic, gendata())"
   ]
  },
  {
   "cell_type": "code",
   "execution_count": null,
   "metadata": {},
   "outputs": [],
   "source": [
    "def gendata():\n",
    "    with open(\"D:\\Data\\wenshu\\p4.txt\", encoding=\"utf-8\") as f:\n",
    "        for i, line in enumerate(f):\n",
    "            case = json.loads(line.strip())\n",
    "            del case[\"crawl_time\"]\n",
    "            del case[\"legal_base\"]\n",
    "            yield case\n",
    "for x in tqdm(gendata(), desc=\"Indexing\", total=64936):\n",
    "    elastic.index(index=\"wenshu\", document=x)"
   ]
  },
  {
   "cell_type": "code",
   "execution_count": null,
   "metadata": {},
   "outputs": [],
   "source": [
    "elastic.indices.create(\n",
    "    index=\"test-wenshu\",\n",
    "    settings={\n",
    "        'analysis': {\n",
    "            'analyzer': {\n",
    "                # we must set the default analyzer\n",
    "                \"default\": {\n",
    "                    \"type\": \"smartcn\"\n",
    "                }\n",
    "            }\n",
    "        }\n",
    "    },\n",
    "    mappings={\n",
    "        \"properties\": {\n",
    "            # field name\n",
    "            \"title\": {\n",
    "                \"type\": \"text\",\n",
    "            },\n",
    "            \"judge_data\": {\n",
    "                \"type\": \"date\",\n",
    "            },\n",
    "            \"publish_type\": {\n",
    "                \"type\": \"keyword\",\n",
    "            },\n",
    "            \"id\": {\n",
    "                # supports wildcard search\n",
    "                \"type\": \"wildcard\",\n",
    "            },\n",
    "            \"court\": {\n",
    "                \"type\": \"keyword\",\n",
    "            },\n",
    "            \"case_num\": {\n",
    "                \"type\": \"keyword\",\n",
    "            },\n",
    "            \"content\": {\n",
    "                \"type\": \"text\"\n",
    "            },\n",
    "            \"vector\": {\n",
    "                \"type\": \"dense_vector\",\n",
    "                \"dims\": 768,\n",
    "                # enable hnsw\n",
    "                \"index\": True,\n",
    "                # inner product is prohibitive since it only allows unit-length vector\n",
    "                \"similarity\": \"l2_norm\"  \n",
    "            }\n",
    "        }\n",
    "    }\n",
    ")"
   ]
  },
  {
   "cell_type": "code",
   "execution_count": null,
   "metadata": {},
   "outputs": [],
   "source": [
    "elastic.indices.create(\n",
    "    index=\"wenshu\",\n",
    "    settings={\n",
    "        'analysis': {\n",
    "            'analyzer': {\n",
    "                # we must set the default analyzer\n",
    "                \"default\": {\n",
    "                    \"type\": \"smartcn\"\n",
    "                }\n",
    "            }\n",
    "        },\n",
    "        \"index.mapping.ignore_malformed\": True\n",
    "    },\n",
    "    mappings={\n",
    "        \"properties\": {\n",
    "            # field name\n",
    "            \"doc_id\": {\n",
    "                \"type\": \"keyword\",\n",
    "            },\n",
    "            \"court_name\": {\n",
    "                \"type\": \"keyword\",\n",
    "            },\n",
    "            \"court_id\": {\n",
    "                \"type\": \"keyword\",\n",
    "            },\n",
    "            \"court_province\": {\n",
    "                \"type\": \"keyword\",\n",
    "            },\n",
    "            \"court_city\": {\n",
    "                \"type\": \"keyword\",\n",
    "            },\n",
    "            \"court_region\": {\n",
    "                \"type\": \"keyword\",\n",
    "            },\n",
    "            \"court_district\": {\n",
    "                \"type\": \"keyword\"\n",
    "            },\n",
    "            \"pub_prosecution_org\": {\n",
    "                \"type\": \"keyword\"\n",
    "            },\n",
    "            \"case_type\": {\n",
    "                \"type\": \"keyword\",\n",
    "            },\n",
    "            \"cause\": {\n",
    "                \"type\": \"keyword\",\n",
    "            },\n",
    "            \"trial_round\": {\n",
    "                \"type\": \"keyword\"\n",
    "            }\n",
    "            \"content\": {\n",
    "                \"type\": \"text\"\n",
    "            },\n",
    "            \"vector\": {\n",
    "                \"type\": \"dense_vector\",\n",
    "                \"dims\": 768,\n",
    "                # enable hnsw\n",
    "                \"index\": True,\n",
    "                # inner product is prohibitive since it only allows unit-length vector\n",
    "                \"similarity\": \"l2_norm\"  \n",
    "            }\n",
    "        }\n",
    "    }\n",
    ")"
   ]
  },
  {
   "cell_type": "code",
   "execution_count": null,
   "metadata": {},
   "outputs": [],
   "source": [
    "# test chinese index\n",
    "elastic.indices.analyze(index=\"test-chinese\", text=\"中国人民大学\")"
   ]
  },
  {
   "cell_type": "code",
   "execution_count": null,
   "metadata": {},
   "outputs": [],
   "source": [
    "# delete index\n",
    "elastic.indices.delete(index=\"wenshu\")"
   ]
  },
  {
   "cell_type": "code",
   "execution_count": null,
   "metadata": {},
   "outputs": [],
   "source": [
    "elastic.search(\n",
    "    index=\"test-wenshu\",\n",
    "    query={\n",
    "        \"match_all\": {}\n",
    "    }\n",
    ")[\"hits\"][\"hits\"]"
   ]
  },
  {
   "cell_type": "code",
   "execution_count": null,
   "metadata": {},
   "outputs": [],
   "source": [
    "elastic.delete_by_query(\n",
    "    index=\"wenshu\", \n",
    "    query={\n",
    "        \"match_all\": {}\n",
    "    }\n",
    ")"
   ]
  },
  {
   "cell_type": "code",
   "execution_count": null,
   "metadata": {},
   "outputs": [],
   "source": [
    "elastic.search(\n",
    "    index=\"wenshu\",\n",
    "    query={\n",
    "        \"match_all\": {\n",
    "        }\n",
    "    },\n",
    "    fields=[\"case_name\", \"content\"],\n",
    "    source=False\n",
    ")[\"hits\"]"
   ]
  },
  {
   "cell_type": "code",
   "execution_count": null,
   "metadata": {},
   "outputs": [],
   "source": []
  }
 ],
 "metadata": {
  "kernelspec": {
   "display_name": "Python 3.9.12 ('base')",
   "language": "python",
   "name": "python3"
  },
  "language_info": {
   "codemirror_mode": {
    "name": "ipython",
    "version": 3
   },
   "file_extension": ".py",
   "mimetype": "text/x-python",
   "name": "python",
   "nbconvert_exporter": "python",
   "pygments_lexer": "ipython3",
   "version": "3.9.12"
  },
  "orig_nbformat": 4,
  "vscode": {
   "interpreter": {
    "hash": "d04ced9d2f3d780184266d6c04c38b10d0bc5dc91923fa3055e4cade559214a7"
   }
  }
 },
 "nbformat": 4,
 "nbformat_minor": 2
}
