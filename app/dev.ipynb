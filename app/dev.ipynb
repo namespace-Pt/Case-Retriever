{
 "cells": [
  {
   "cell_type": "code",
   "execution_count": 2,
   "metadata": {},
   "outputs": [
    {
     "data": {
      "text/plain": [
       "ObjectApiResponse({'name': 'LAPTOP-Q7SNUCG2', 'cluster_name': 'elasticsearch', 'cluster_uuid': 'yhlAun-SQlmUfzFTFaRwIg', 'version': {'number': '8.3.2', 'build_type': 'zip', 'build_hash': '8b0b1f23fbebecc3c88e4464319dea8989f374fd', 'build_date': '2022-07-06T15:15:15.901688194Z', 'build_snapshot': False, 'lucene_version': '9.2.0', 'minimum_wire_compatibility_version': '7.17.0', 'minimum_index_compatibility_version': '7.0.0'}, 'tagline': 'You Know, for Search'})"
      ]
     },
     "execution_count": 2,
     "metadata": {},
     "output_type": "execute_result"
    }
   ],
   "source": [
    "from elasticsearch import Elasticsearch\n",
    "from elasticsearch.helpers import bulk\n",
    "\n",
    "# Create the client instance\n",
    "client = Elasticsearch(\n",
    "    \"http://localhost:9200\",\n",
    "    request_timeout=100000\n",
    ")\n",
    "\n",
    "# Successful response!\n",
    "client.info()"
   ]
  },
  {
   "cell_type": "code",
   "execution_count": null,
   "metadata": {},
   "outputs": [],
   "source": [
    "# create chinese index\n",
    "client.indices.create(\n",
    "    index=\"lecard\", \n",
    "    settings={\n",
    "        'analysis': {\n",
    "            'analyzer': {\n",
    "                # we must set the default analyzer\n",
    "                \"default\": {\n",
    "                    \"type\": \"smartcn\"\n",
    "                }\n",
    "            }\n",
    "        }\n",
    "    }\n",
    ")"
   ]
  },
  {
   "cell_type": "code",
   "execution_count": null,
   "metadata": {},
   "outputs": [],
   "source": [
    "client.search(\n",
    "    index=\"test-english\", \n",
    "    query={\n",
    "        \"combined_fields\": {\n",
    "            \"query\": \"one\",\n",
    "            \"fields\": [\"title\", \"abstract\"],\n",
    "        }\n",
    "    },\n",
    "    highlight={\n",
    "        \"fields\": {\n",
    "            \"title\": {\n",
    "                \"pre_tags\" : [\"<em class='text-primary'>\"],\n",
    "                \"post_tags\": [\"</em>\"]\n",
    "            },\n",
    "            \"abstract\": {\n",
    "                \"pre_tags\" : [\"<em class='text-primary'>\"],\n",
    "                \"post_tags\": [\"</em>\"]\n",
    "            }\n",
    "        }\n",
    "    }\n",
    ")"
   ]
  },
  {
   "cell_type": "code",
   "execution_count": null,
   "metadata": {},
   "outputs": [],
   "source": [
    "client.search(\n",
    "    index=\"lecard\", \n",
    "    query={\n",
    "        \"match_all\": {}\n",
    "    }\n",
    ")[\"hits\"][\"hits\"]"
   ]
  },
  {
   "cell_type": "code",
   "execution_count": null,
   "metadata": {},
   "outputs": [],
   "source": [
    "# add demo english documents\n",
    "def gendata():\n",
    "    num2word = {0: 'Zero', 1: 'One', 2: 'Two', 3: 'Three', 4: 'Four', 5: 'Five', \\\n",
    "            6: 'Six', 7: 'Seven', 8: 'Eight', 9: 'Nine', 10: 'Ten', \\\n",
    "            11: 'Eleven', 12: 'Twelve', 13: 'Thirteen', 14: 'Fourteen', \\\n",
    "            15: 'Fifteen', 16: 'Sixteen', 17: 'Seventeen', 18: 'Eighteen', 19: 'Nineteen'}\n",
    "\n",
    "    for i in range(10):\n",
    "        yield {\n",
    "            \"_index\": \"test-english\",\n",
    "            \"title\": f\"this is the {num2word[i]} title\",\n",
    "            \"abstract\": f\"this is the {num2word[i]} abstract\",\n",
    "            \"body\": f\"this is the {num2word[i]} body\"\n",
    "        }\n",
    "\n",
    "bulk(client, gendata())"
   ]
  },
  {
   "cell_type": "code",
   "execution_count": null,
   "metadata": {},
   "outputs": [],
   "source": [
    "# add demo chinese documents\n",
    "def gendata():\n",
    "    num2word = {0: '零', 1: '一', 2: '二', 3: '三', 4: '四', 5: '五', \\\n",
    "            6: 'Six', 7: 'Seven', 8: 'Eight', 9: 'Nine', 10: 'Ten', \\\n",
    "            11: 'Eleven', 12: 'Twelve', 13: 'Thirteen', 14: 'Fourteen', \\\n",
    "            15: 'Fifteen', 16: 'Sixteen', 17: 'Seventeen', 18: 'Eighteen', 19: 'Nineteen'}\n",
    "\n",
    "    for i in range(6):\n",
    "        yield {\n",
    "            \"_index\": \"test-chinese\",\n",
    "            \"title\": f\"这是第{num2word[i]}篇文章的标题\",\n",
    "            \"abstract\": f\"这是第{num2word[i]}篇文章的摘要\",\n",
    "            \"body\": f\"这是第{num2word[i]}篇文章的正文\"\n",
    "        }\n",
    "bulk(client, gendata())"
   ]
  },
  {
   "cell_type": "code",
   "execution_count": 3,
   "metadata": {},
   "outputs": [
    {
     "data": {
      "text/plain": [
       "(10718, [])"
      ]
     },
     "execution_count": 3,
     "metadata": {},
     "output_type": "execute_result"
    }
   ],
   "source": [
    "# add lecard documents\n",
    "def gendata():\n",
    "    with open(\"D:\\Data\\lecard\\collection.tsv\", encoding=\"utf-8\") as f:\n",
    "        for line in f:\n",
    "            fields = line.strip().split(\"\\t\")\n",
    "            yield {\n",
    "                \"_index\": \"lecard\",\n",
    "                \"title\": fields[1],\n",
    "                \"abstract\": fields[2],\n",
    "                \"body\": fields[3]\n",
    "            }\n",
    "bulk(client, gendata())"
   ]
  },
  {
   "cell_type": "code",
   "execution_count": null,
   "metadata": {},
   "outputs": [],
   "source": [
    "# test chinese index\n",
    "client.indices.analyze(index=\"test-chinese\", text=\"中国人民大学\")"
   ]
  },
  {
   "cell_type": "code",
   "execution_count": null,
   "metadata": {},
   "outputs": [],
   "source": [
    "# delete index\n",
    "client.indices.delete(index=\"test-chinese\")"
   ]
  },
  {
   "cell_type": "code",
   "execution_count": 8,
   "metadata": {},
   "outputs": [
    {
     "data": {
      "text/plain": [
       "ObjectApiResponse({'took': 6867, 'timed_out': False, 'total': 9000, 'deleted': 9000, 'batches': 9, 'version_conflicts': 0, 'noops': 0, 'retries': {'bulk': 0, 'search': 0}, 'throttled_millis': 0, 'requests_per_second': -1.0, 'throttled_until_millis': 0, 'failures': []})"
      ]
     },
     "execution_count": 8,
     "metadata": {},
     "output_type": "execute_result"
    }
   ],
   "source": [
    "client.delete_by_query(\n",
    "    index=\"lecard\", \n",
    "    query={\n",
    "        \"match_all\": {}\n",
    "    }\n",
    ")"
   ]
  }
 ],
 "metadata": {
  "interpreter": {
   "hash": "a886b9c141576f6c7cf531afa0e6aa58f696a9dee522d7789e497ec68e3696d2"
  },
  "kernelspec": {
   "display_name": "Python 3.9.7 ('web')",
   "language": "python",
   "name": "python3"
  },
  "language_info": {
   "codemirror_mode": {
    "name": "ipython",
    "version": 3
   },
   "file_extension": ".py",
   "mimetype": "text/x-python",
   "name": "python",
   "nbconvert_exporter": "python",
   "pygments_lexer": "ipython3",
   "version": "3.9.7"
  },
  "orig_nbformat": 4
 },
 "nbformat": 4,
 "nbformat_minor": 2
}
