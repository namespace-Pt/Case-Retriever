{
 "cells": [
  {
   "cell_type": "code",
   "execution_count": 17,
   "metadata": {},
   "outputs": [
    {
     "data": {
      "text/plain": [
       "ObjectApiResponse({'name': 'ubuntu', 'cluster_name': 'elasticsearch', 'cluster_uuid': 'nnVPfeLWRgunp94gp_U7Eg', 'version': {'number': '8.3.2', 'build_type': 'tar', 'build_hash': '8b0b1f23fbebecc3c88e4464319dea8989f374fd', 'build_date': '2022-07-06T15:15:15.901688194Z', 'build_snapshot': False, 'lucene_version': '9.2.0', 'minimum_wire_compatibility_version': '7.17.0', 'minimum_index_compatibility_version': '7.0.0'}, 'tagline': 'You Know, for Search'})"
      ]
     },
     "execution_count": 17,
     "metadata": {},
     "output_type": "execute_result"
    }
   ],
   "source": [
    "import re\n",
    "import os\n",
    "import json\n",
    "import numpy as np\n",
    "from tqdm import tqdm\n",
    "from elasticsearch import Elasticsearch\n",
    "from elasticsearch.helpers import bulk\n",
    "\n",
    "# Create the elastic instance\n",
    "elastic = Elasticsearch(\n",
    "    \"http://localhost:9200\",\n",
    "    request_timeout=1000000\n",
    ")\n",
    "\n",
    "# Successful response!\n",
    "elastic.info()"
   ]
  },
  {
   "cell_type": "code",
   "execution_count": 2,
   "metadata": {},
   "outputs": [
    {
     "ename": "ModuleNotFoundError",
     "evalue": "No module named 'pytorch_lightning'",
     "output_type": "error",
     "traceback": [
      "\u001b[1;31m---------------------------------------------------------------------------\u001b[0m",
      "\u001b[1;31mModuleNotFoundError\u001b[0m                       Traceback (most recent call last)",
      "\u001b[1;32md:\\Repositories\\Case-Retriever\\app\\dev.ipynb Cell 3\u001b[0m in \u001b[0;36m<cell line: 1>\u001b[1;34m()\u001b[0m\n\u001b[1;32m----> <a href='vscode-notebook-cell:/d%3A/Repositories/Case-Retriever/app/dev.ipynb#X23sZmlsZQ%3D%3D?line=0'>1</a>\u001b[0m a \u001b[39m=\u001b[39m torch\u001b[39m.\u001b[39;49mload(\u001b[39mr\u001b[39;49m\u001b[39m\"\u001b[39;49m\u001b[39mC:\u001b[39;49m\u001b[39m\\\u001b[39;49m\u001b[39mUsers\u001b[39;49m\u001b[39m\\\u001b[39;49m\u001b[39mPt\u001b[39;49m\u001b[39m\\\u001b[39;49m\u001b[39mDownloads\u001b[39;49m\u001b[39m\\\u001b[39;49m\u001b[39mnq_model.ckpt\u001b[39;49m\u001b[39m\"\u001b[39;49m, map_location\u001b[39m=\u001b[39;49m\u001b[39m\"\u001b[39;49m\u001b[39mcpu\u001b[39;49m\u001b[39m\"\u001b[39;49m)\n",
      "File \u001b[1;32md:\\Apps\\Anaconda\\lib\\site-packages\\torch\\serialization.py:607\u001b[0m, in \u001b[0;36mload\u001b[1;34m(f, map_location, pickle_module, **pickle_load_args)\u001b[0m\n\u001b[0;32m    605\u001b[0m             opened_file\u001b[39m.\u001b[39mseek(orig_position)\n\u001b[0;32m    606\u001b[0m             \u001b[39mreturn\u001b[39;00m torch\u001b[39m.\u001b[39mjit\u001b[39m.\u001b[39mload(opened_file)\n\u001b[1;32m--> 607\u001b[0m         \u001b[39mreturn\u001b[39;00m _load(opened_zipfile, map_location, pickle_module, \u001b[39m*\u001b[39m\u001b[39m*\u001b[39mpickle_load_args)\n\u001b[0;32m    608\u001b[0m \u001b[39mreturn\u001b[39;00m _legacy_load(opened_file, map_location, pickle_module, \u001b[39m*\u001b[39m\u001b[39m*\u001b[39mpickle_load_args)\n",
      "File \u001b[1;32md:\\Apps\\Anaconda\\lib\\site-packages\\torch\\serialization.py:882\u001b[0m, in \u001b[0;36m_load\u001b[1;34m(zip_file, map_location, pickle_module, pickle_file, **pickle_load_args)\u001b[0m\n\u001b[0;32m    880\u001b[0m unpickler \u001b[39m=\u001b[39m UnpicklerWrapper(data_file, \u001b[39m*\u001b[39m\u001b[39m*\u001b[39mpickle_load_args)\n\u001b[0;32m    881\u001b[0m unpickler\u001b[39m.\u001b[39mpersistent_load \u001b[39m=\u001b[39m persistent_load\n\u001b[1;32m--> 882\u001b[0m result \u001b[39m=\u001b[39m unpickler\u001b[39m.\u001b[39;49mload()\n\u001b[0;32m    884\u001b[0m torch\u001b[39m.\u001b[39m_utils\u001b[39m.\u001b[39m_validate_loaded_sparse_tensors()\n\u001b[0;32m    886\u001b[0m \u001b[39mreturn\u001b[39;00m result\n",
      "File \u001b[1;32md:\\Apps\\Anaconda\\lib\\site-packages\\torch\\serialization.py:875\u001b[0m, in \u001b[0;36m_load.<locals>.UnpicklerWrapper.find_class\u001b[1;34m(self, mod_name, name)\u001b[0m\n\u001b[0;32m    873\u001b[0m \u001b[39mdef\u001b[39;00m \u001b[39mfind_class\u001b[39m(\u001b[39mself\u001b[39m, mod_name, name):\n\u001b[0;32m    874\u001b[0m     mod_name \u001b[39m=\u001b[39m load_module_mapping\u001b[39m.\u001b[39mget(mod_name, mod_name)\n\u001b[1;32m--> 875\u001b[0m     \u001b[39mreturn\u001b[39;00m \u001b[39msuper\u001b[39;49m()\u001b[39m.\u001b[39;49mfind_class(mod_name, name)\n",
      "\u001b[1;31mModuleNotFoundError\u001b[0m: No module named 'pytorch_lightning'"
     ]
    }
   ],
   "source": [
    "a = torch.load(r\"C:\\Users\\Pt\\Downloads\\nq_model.ckpt\", map_location=\"cpu\")"
   ]
  },
  {
   "cell_type": "code",
   "execution_count": 15,
   "metadata": {},
   "outputs": [
    {
     "data": {
      "text/plain": [
       "{'agg-court': {'doc_count_error_upper_bound': 0,\n",
       "  'sum_other_doc_count': 61,\n",
       "  'buckets': [{'key': '金华市婺城区人民法院', 'doc_count': 3},\n",
       "   {'key': '上海市嘉定区人民法院', 'doc_count': 2},\n",
       "   {'key': '太原市万柏林区人民法院', 'doc_count': 2},\n",
       "   {'key': '宁明县人民法院', 'doc_count': 2},\n",
       "   {'key': '新昌县人民法院', 'doc_count': 2},\n",
       "   {'key': '湖南省长沙市雨花区人民法院', 'doc_count': 2},\n",
       "   {'key': '东莞市第二人民法院', 'doc_count': 1},\n",
       "   {'key': '临武县人民法院', 'doc_count': 1},\n",
       "   {'key': '义乌市人民法院', 'doc_count': 1},\n",
       "   {'key': '云南省昆明市官渡区人民法院', 'doc_count': 1}]}}"
      ]
     },
     "execution_count": 15,
     "metadata": {},
     "output_type": "execute_result"
    }
   ],
   "source": [
    "elastic.search(\n",
    "    index=\"wenshu\",\n",
    "    size=2,\n",
    "    from_=0,\n",
    "    _source=False,\n",
    "    fields=[\"case_name\", \"content\", {\"field\": \"publish_date\", \"format\": \"year_month_day\"}, \"court_name\"],\n",
    "    query={\n",
    "        \"combined_fields\": {\n",
    "            \"query\": \"测试\",\n",
    "            \"fields\": [\"case_name\", \"content\"]\n",
    "        }\n",
    "    },\n",
    "    aggs={\n",
    "        \"agg-court\": {\n",
    "            \"terms\": {\n",
    "                \"field\": \"court_name\"\n",
    "            }\n",
    "        }\n",
    "    },\n",
    "    # highlight={\n",
    "    #     \"fields\": {\n",
    "    #         \"content\": {\n",
    "    #             \"pre_tags\" : [\"<strong>\"],\n",
    "    #             \"post_tags\": [\"</strong>\"],\n",
    "    #             \"number_of_fragments\": 1,\n",
    "    #         }\n",
    "    #     }\n",
    "    # },\n",
    "    # post_filter={\n",
    "    #     \"bool\": {\n",
    "    #         \"filter\": [\n",
    "    #             {\n",
    "    #                 \"terms\": {\"court_name\": [\"德阳市中级人民法院\"]}\n",
    "    #             },\n",
    "    #             {\n",
    "    #                 \"terms\": {\"case_type\": [\"管辖案件\"]}\n",
    "    #             }\n",
    "    #         ]\n",
    "    #     }\n",
    "    # }\n",
    ")[\"aggregations\"]"
   ]
  },
  {
   "cell_type": "code",
   "execution_count": null,
   "metadata": {},
   "outputs": [],
   "source": [
    "emb = np.random.rand(768).astype(np.float32)\n",
    "elastic.knn_search(\n",
    "    index=\"wenshu\", \n",
    "    knn={\n",
    "        \"field\": \"vector\",\n",
    "        \"query_vector\": (emb / np.linalg.norm(emb)).tolist(),\n",
    "        \"k\": 10,\n",
    "        \"num_candidates\": 10\n",
    "    },\n",
    "    source=False,\n",
    "    fields=[\"case_name\", \"content\"]\n",
    ")"
   ]
  },
  {
   "cell_type": "code",
   "execution_count": 34,
   "metadata": {},
   "outputs": [
    {
     "name": "stderr",
     "output_type": "stream",
     "text": [
      "Indexing:  40%|███▉      | 201062/505530 [37:19<56:31, 89.77it/s]   \n"
     ]
    },
    {
     "ename": "KeyboardInterrupt",
     "evalue": "",
     "output_type": "error",
     "traceback": [
      "\u001b[0;31m---------------------------------------------------------------------------\u001b[0m",
      "\u001b[0;31mKeyboardInterrupt\u001b[0m                         Traceback (most recent call last)",
      "\u001b[1;32m/home/peitian_zhang/Code/Case-Retriever/app/dev.ipynb Cell 5\u001b[0m in \u001b[0;36m<cell line: 19>\u001b[0;34m()\u001b[0m\n\u001b[1;32m     <a href='vscode-notebook-cell://ssh-remote%2B183.174.228.39/home/peitian_zhang/Code/Case-Retriever/app/dev.ipynb#ch0000006vscode-remote?line=16'>17</a>\u001b[0m             \u001b[39myield\u001b[39;00m case\n\u001b[1;32m     <a href='vscode-notebook-cell://ssh-remote%2B183.174.228.39/home/peitian_zhang/Code/Case-Retriever/app/dev.ipynb#ch0000006vscode-remote?line=18'>19</a>\u001b[0m \u001b[39mfor\u001b[39;00m x \u001b[39min\u001b[39;00m tqdm(gendata(), desc\u001b[39m=\u001b[39m\u001b[39m\"\u001b[39m\u001b[39mIndexing\u001b[39m\u001b[39m\"\u001b[39m, total\u001b[39m=\u001b[39membeddings\u001b[39m.\u001b[39mshape[\u001b[39m0\u001b[39m]):\n\u001b[0;32m---> <a href='vscode-notebook-cell://ssh-remote%2B183.174.228.39/home/peitian_zhang/Code/Case-Retriever/app/dev.ipynb#ch0000006vscode-remote?line=19'>20</a>\u001b[0m     elastic\u001b[39m.\u001b[39;49mindex(index\u001b[39m=\u001b[39;49m\u001b[39m\"\u001b[39;49m\u001b[39mwenshu\u001b[39;49m\u001b[39m\"\u001b[39;49m, document\u001b[39m=\u001b[39;49mx)\n",
      "File \u001b[0;32m~/App/anaconda3/lib/python3.9/site-packages/elasticsearch/_sync/client/utils.py:414\u001b[0m, in \u001b[0;36m_rewrite_parameters.<locals>.wrapper.<locals>.wrapped\u001b[0;34m(*args, **kwargs)\u001b[0m\n\u001b[1;32m    411\u001b[0m         \u001b[39mexcept\u001b[39;00m \u001b[39mKeyError\u001b[39;00m:\n\u001b[1;32m    412\u001b[0m             \u001b[39mpass\u001b[39;00m\n\u001b[0;32m--> 414\u001b[0m \u001b[39mreturn\u001b[39;00m api(\u001b[39m*\u001b[39;49margs, \u001b[39m*\u001b[39;49m\u001b[39m*\u001b[39;49mkwargs)\n",
      "File \u001b[0;32m~/App/anaconda3/lib/python3.9/site-packages/elasticsearch/_sync/client/__init__.py:2246\u001b[0m, in \u001b[0;36mElasticsearch.index\u001b[0;34m(self, index, document, id, error_trace, filter_path, human, if_primary_term, if_seq_no, op_type, pipeline, pretty, refresh, require_alias, routing, timeout, version, version_type, wait_for_active_shards)\u001b[0m\n\u001b[1;32m   2244\u001b[0m __body \u001b[39m=\u001b[39m document\n\u001b[1;32m   2245\u001b[0m __headers \u001b[39m=\u001b[39m {\u001b[39m\"\u001b[39m\u001b[39maccept\u001b[39m\u001b[39m\"\u001b[39m: \u001b[39m\"\u001b[39m\u001b[39mapplication/json\u001b[39m\u001b[39m\"\u001b[39m, \u001b[39m\"\u001b[39m\u001b[39mcontent-type\u001b[39m\u001b[39m\"\u001b[39m: \u001b[39m\"\u001b[39m\u001b[39mapplication/json\u001b[39m\u001b[39m\"\u001b[39m}\n\u001b[0;32m-> 2246\u001b[0m \u001b[39mreturn\u001b[39;00m \u001b[39mself\u001b[39;49m\u001b[39m.\u001b[39;49mperform_request(  \u001b[39m# type: ignore[return-value]\u001b[39;49;00m\n\u001b[1;32m   2247\u001b[0m     __method, __path, params\u001b[39m=\u001b[39;49m__query, headers\u001b[39m=\u001b[39;49m__headers, body\u001b[39m=\u001b[39;49m__body\n\u001b[1;32m   2248\u001b[0m )\n",
      "File \u001b[0;32m~/App/anaconda3/lib/python3.9/site-packages/elasticsearch/_sync/client/_base.py:286\u001b[0m, in \u001b[0;36mBaseClient.perform_request\u001b[0;34m(self, method, path, params, headers, body)\u001b[0m\n\u001b[1;32m    283\u001b[0m \u001b[39melse\u001b[39;00m:\n\u001b[1;32m    284\u001b[0m     target \u001b[39m=\u001b[39m path\n\u001b[0;32m--> 286\u001b[0m meta, resp_body \u001b[39m=\u001b[39m \u001b[39mself\u001b[39;49m\u001b[39m.\u001b[39;49mtransport\u001b[39m.\u001b[39;49mperform_request(\n\u001b[1;32m    287\u001b[0m     method,\n\u001b[1;32m    288\u001b[0m     target,\n\u001b[1;32m    289\u001b[0m     headers\u001b[39m=\u001b[39;49mrequest_headers,\n\u001b[1;32m    290\u001b[0m     body\u001b[39m=\u001b[39;49mbody,\n\u001b[1;32m    291\u001b[0m     request_timeout\u001b[39m=\u001b[39;49m\u001b[39mself\u001b[39;49m\u001b[39m.\u001b[39;49m_request_timeout,\n\u001b[1;32m    292\u001b[0m     max_retries\u001b[39m=\u001b[39;49m\u001b[39mself\u001b[39;49m\u001b[39m.\u001b[39;49m_max_retries,\n\u001b[1;32m    293\u001b[0m     retry_on_status\u001b[39m=\u001b[39;49m\u001b[39mself\u001b[39;49m\u001b[39m.\u001b[39;49m_retry_on_status,\n\u001b[1;32m    294\u001b[0m     retry_on_timeout\u001b[39m=\u001b[39;49m\u001b[39mself\u001b[39;49m\u001b[39m.\u001b[39;49m_retry_on_timeout,\n\u001b[1;32m    295\u001b[0m     client_meta\u001b[39m=\u001b[39;49m\u001b[39mself\u001b[39;49m\u001b[39m.\u001b[39;49m_client_meta,\n\u001b[1;32m    296\u001b[0m )\n\u001b[1;32m    298\u001b[0m \u001b[39m# HEAD with a 404 is returned as a normal response\u001b[39;00m\n\u001b[1;32m    299\u001b[0m \u001b[39m# since this is used as an 'exists' functionality.\u001b[39;00m\n\u001b[1;32m    300\u001b[0m \u001b[39mif\u001b[39;00m \u001b[39mnot\u001b[39;00m (method \u001b[39m==\u001b[39m \u001b[39m\"\u001b[39m\u001b[39mHEAD\u001b[39m\u001b[39m\"\u001b[39m \u001b[39mand\u001b[39;00m meta\u001b[39m.\u001b[39mstatus \u001b[39m==\u001b[39m \u001b[39m404\u001b[39m) \u001b[39mand\u001b[39;00m (\n\u001b[1;32m    301\u001b[0m     \u001b[39mnot\u001b[39;00m \u001b[39m200\u001b[39m \u001b[39m<\u001b[39m\u001b[39m=\u001b[39m meta\u001b[39m.\u001b[39mstatus \u001b[39m<\u001b[39m \u001b[39m299\u001b[39m\n\u001b[1;32m    302\u001b[0m     \u001b[39mand\u001b[39;00m (\n\u001b[0;32m   (...)\u001b[0m\n\u001b[1;32m    306\u001b[0m     )\n\u001b[1;32m    307\u001b[0m ):\n",
      "File \u001b[0;32m~/App/anaconda3/lib/python3.9/site-packages/elastic_transport/_transport.py:329\u001b[0m, in \u001b[0;36mTransport.perform_request\u001b[0;34m(self, method, target, body, headers, max_retries, retry_on_status, retry_on_timeout, request_timeout, client_meta)\u001b[0m\n\u001b[1;32m    327\u001b[0m start_time \u001b[39m=\u001b[39m time\u001b[39m.\u001b[39mtime()\n\u001b[1;32m    328\u001b[0m \u001b[39mtry\u001b[39;00m:\n\u001b[0;32m--> 329\u001b[0m     meta, raw_data \u001b[39m=\u001b[39m node\u001b[39m.\u001b[39;49mperform_request(\n\u001b[1;32m    330\u001b[0m         method,\n\u001b[1;32m    331\u001b[0m         target,\n\u001b[1;32m    332\u001b[0m         body\u001b[39m=\u001b[39;49mrequest_body,\n\u001b[1;32m    333\u001b[0m         headers\u001b[39m=\u001b[39;49mrequest_headers,\n\u001b[1;32m    334\u001b[0m         request_timeout\u001b[39m=\u001b[39;49mrequest_timeout,\n\u001b[1;32m    335\u001b[0m     )\n\u001b[1;32m    336\u001b[0m     _logger\u001b[39m.\u001b[39minfo(\n\u001b[1;32m    337\u001b[0m         \u001b[39m\"\u001b[39m\u001b[39m%s\u001b[39;00m\u001b[39m \u001b[39m\u001b[39m%s\u001b[39;00m\u001b[39m%s\u001b[39;00m\u001b[39m [status:\u001b[39m\u001b[39m%s\u001b[39;00m\u001b[39m duration:\u001b[39m\u001b[39m%.3f\u001b[39;00m\u001b[39ms]\u001b[39m\u001b[39m\"\u001b[39m\n\u001b[1;32m    338\u001b[0m         \u001b[39m%\u001b[39m (\n\u001b[0;32m   (...)\u001b[0m\n\u001b[1;32m    344\u001b[0m         )\n\u001b[1;32m    345\u001b[0m     )\n\u001b[1;32m    347\u001b[0m     \u001b[39mif\u001b[39;00m method \u001b[39m!=\u001b[39m \u001b[39m\"\u001b[39m\u001b[39mHEAD\u001b[39m\u001b[39m\"\u001b[39m:\n",
      "File \u001b[0;32m~/App/anaconda3/lib/python3.9/site-packages/elastic_transport/_node/_http_urllib3.py:164\u001b[0m, in \u001b[0;36mUrllib3HttpNode.perform_request\u001b[0;34m(self, method, target, body, headers, request_timeout)\u001b[0m\n\u001b[1;32m    161\u001b[0m \u001b[39melse\u001b[39;00m:\n\u001b[1;32m    162\u001b[0m     body_to_send \u001b[39m=\u001b[39m \u001b[39mNone\u001b[39;00m\n\u001b[0;32m--> 164\u001b[0m response \u001b[39m=\u001b[39m \u001b[39mself\u001b[39;49m\u001b[39m.\u001b[39;49mpool\u001b[39m.\u001b[39;49murlopen(  \u001b[39m# type: ignore[no-untyped-call]\u001b[39;49;00m\n\u001b[1;32m    165\u001b[0m     method,\n\u001b[1;32m    166\u001b[0m     target,\n\u001b[1;32m    167\u001b[0m     body\u001b[39m=\u001b[39;49mbody_to_send,\n\u001b[1;32m    168\u001b[0m     retries\u001b[39m=\u001b[39;49mRetry(\u001b[39mFalse\u001b[39;49;00m),\n\u001b[1;32m    169\u001b[0m     headers\u001b[39m=\u001b[39;49mrequest_headers,\n\u001b[1;32m    170\u001b[0m     \u001b[39m*\u001b[39;49m\u001b[39m*\u001b[39;49mkw,\n\u001b[1;32m    171\u001b[0m )\n\u001b[1;32m    172\u001b[0m response_headers \u001b[39m=\u001b[39m HttpHeaders(response\u001b[39m.\u001b[39mheaders)\n\u001b[1;32m    173\u001b[0m data \u001b[39m=\u001b[39m response\u001b[39m.\u001b[39mdata\n",
      "File \u001b[0;32m~/App/anaconda3/lib/python3.9/site-packages/urllib3/connectionpool.py:703\u001b[0m, in \u001b[0;36mHTTPConnectionPool.urlopen\u001b[0;34m(self, method, url, body, headers, retries, redirect, assert_same_host, timeout, pool_timeout, release_conn, chunked, body_pos, **response_kw)\u001b[0m\n\u001b[1;32m    700\u001b[0m     \u001b[39mself\u001b[39m\u001b[39m.\u001b[39m_prepare_proxy(conn)\n\u001b[1;32m    702\u001b[0m \u001b[39m# Make the request on the httplib connection object.\u001b[39;00m\n\u001b[0;32m--> 703\u001b[0m httplib_response \u001b[39m=\u001b[39m \u001b[39mself\u001b[39;49m\u001b[39m.\u001b[39;49m_make_request(\n\u001b[1;32m    704\u001b[0m     conn,\n\u001b[1;32m    705\u001b[0m     method,\n\u001b[1;32m    706\u001b[0m     url,\n\u001b[1;32m    707\u001b[0m     timeout\u001b[39m=\u001b[39;49mtimeout_obj,\n\u001b[1;32m    708\u001b[0m     body\u001b[39m=\u001b[39;49mbody,\n\u001b[1;32m    709\u001b[0m     headers\u001b[39m=\u001b[39;49mheaders,\n\u001b[1;32m    710\u001b[0m     chunked\u001b[39m=\u001b[39;49mchunked,\n\u001b[1;32m    711\u001b[0m )\n\u001b[1;32m    713\u001b[0m \u001b[39m# If we're going to release the connection in ``finally:``, then\u001b[39;00m\n\u001b[1;32m    714\u001b[0m \u001b[39m# the response doesn't need to know about the connection. Otherwise\u001b[39;00m\n\u001b[1;32m    715\u001b[0m \u001b[39m# it will also try to release it and we'll have a double-release\u001b[39;00m\n\u001b[1;32m    716\u001b[0m \u001b[39m# mess.\u001b[39;00m\n\u001b[1;32m    717\u001b[0m response_conn \u001b[39m=\u001b[39m conn \u001b[39mif\u001b[39;00m \u001b[39mnot\u001b[39;00m release_conn \u001b[39melse\u001b[39;00m \u001b[39mNone\u001b[39;00m\n",
      "File \u001b[0;32m~/App/anaconda3/lib/python3.9/site-packages/urllib3/connectionpool.py:449\u001b[0m, in \u001b[0;36mHTTPConnectionPool._make_request\u001b[0;34m(self, conn, method, url, timeout, chunked, **httplib_request_kw)\u001b[0m\n\u001b[1;32m    444\u001b[0m             httplib_response \u001b[39m=\u001b[39m conn\u001b[39m.\u001b[39mgetresponse()\n\u001b[1;32m    445\u001b[0m         \u001b[39mexcept\u001b[39;00m \u001b[39mBaseException\u001b[39;00m \u001b[39mas\u001b[39;00m e:\n\u001b[1;32m    446\u001b[0m             \u001b[39m# Remove the TypeError from the exception chain in\u001b[39;00m\n\u001b[1;32m    447\u001b[0m             \u001b[39m# Python 3 (including for exceptions like SystemExit).\u001b[39;00m\n\u001b[1;32m    448\u001b[0m             \u001b[39m# Otherwise it looks like a bug in the code.\u001b[39;00m\n\u001b[0;32m--> 449\u001b[0m             six\u001b[39m.\u001b[39;49mraise_from(e, \u001b[39mNone\u001b[39;49;00m)\n\u001b[1;32m    450\u001b[0m \u001b[39mexcept\u001b[39;00m (SocketTimeout, BaseSSLError, SocketError) \u001b[39mas\u001b[39;00m e:\n\u001b[1;32m    451\u001b[0m     \u001b[39mself\u001b[39m\u001b[39m.\u001b[39m_raise_timeout(err\u001b[39m=\u001b[39me, url\u001b[39m=\u001b[39murl, timeout_value\u001b[39m=\u001b[39mread_timeout)\n",
      "File \u001b[0;32m<string>:3\u001b[0m, in \u001b[0;36mraise_from\u001b[0;34m(value, from_value)\u001b[0m\n",
      "File \u001b[0;32m~/App/anaconda3/lib/python3.9/site-packages/urllib3/connectionpool.py:444\u001b[0m, in \u001b[0;36mHTTPConnectionPool._make_request\u001b[0;34m(self, conn, method, url, timeout, chunked, **httplib_request_kw)\u001b[0m\n\u001b[1;32m    441\u001b[0m \u001b[39mexcept\u001b[39;00m \u001b[39mTypeError\u001b[39;00m:\n\u001b[1;32m    442\u001b[0m     \u001b[39m# Python 3\u001b[39;00m\n\u001b[1;32m    443\u001b[0m     \u001b[39mtry\u001b[39;00m:\n\u001b[0;32m--> 444\u001b[0m         httplib_response \u001b[39m=\u001b[39m conn\u001b[39m.\u001b[39;49mgetresponse()\n\u001b[1;32m    445\u001b[0m     \u001b[39mexcept\u001b[39;00m \u001b[39mBaseException\u001b[39;00m \u001b[39mas\u001b[39;00m e:\n\u001b[1;32m    446\u001b[0m         \u001b[39m# Remove the TypeError from the exception chain in\u001b[39;00m\n\u001b[1;32m    447\u001b[0m         \u001b[39m# Python 3 (including for exceptions like SystemExit).\u001b[39;00m\n\u001b[1;32m    448\u001b[0m         \u001b[39m# Otherwise it looks like a bug in the code.\u001b[39;00m\n\u001b[1;32m    449\u001b[0m         six\u001b[39m.\u001b[39mraise_from(e, \u001b[39mNone\u001b[39;00m)\n",
      "File \u001b[0;32m~/App/anaconda3/lib/python3.9/http/client.py:1377\u001b[0m, in \u001b[0;36mHTTPConnection.getresponse\u001b[0;34m(self)\u001b[0m\n\u001b[1;32m   1375\u001b[0m \u001b[39mtry\u001b[39;00m:\n\u001b[1;32m   1376\u001b[0m     \u001b[39mtry\u001b[39;00m:\n\u001b[0;32m-> 1377\u001b[0m         response\u001b[39m.\u001b[39;49mbegin()\n\u001b[1;32m   1378\u001b[0m     \u001b[39mexcept\u001b[39;00m \u001b[39mConnectionError\u001b[39;00m:\n\u001b[1;32m   1379\u001b[0m         \u001b[39mself\u001b[39m\u001b[39m.\u001b[39mclose()\n",
      "File \u001b[0;32m~/App/anaconda3/lib/python3.9/http/client.py:320\u001b[0m, in \u001b[0;36mHTTPResponse.begin\u001b[0;34m(self)\u001b[0m\n\u001b[1;32m    318\u001b[0m \u001b[39m# read until we get a non-100 response\u001b[39;00m\n\u001b[1;32m    319\u001b[0m \u001b[39mwhile\u001b[39;00m \u001b[39mTrue\u001b[39;00m:\n\u001b[0;32m--> 320\u001b[0m     version, status, reason \u001b[39m=\u001b[39m \u001b[39mself\u001b[39;49m\u001b[39m.\u001b[39;49m_read_status()\n\u001b[1;32m    321\u001b[0m     \u001b[39mif\u001b[39;00m status \u001b[39m!=\u001b[39m CONTINUE:\n\u001b[1;32m    322\u001b[0m         \u001b[39mbreak\u001b[39;00m\n",
      "File \u001b[0;32m~/App/anaconda3/lib/python3.9/http/client.py:281\u001b[0m, in \u001b[0;36mHTTPResponse._read_status\u001b[0;34m(self)\u001b[0m\n\u001b[1;32m    280\u001b[0m \u001b[39mdef\u001b[39;00m \u001b[39m_read_status\u001b[39m(\u001b[39mself\u001b[39m):\n\u001b[0;32m--> 281\u001b[0m     line \u001b[39m=\u001b[39m \u001b[39mstr\u001b[39m(\u001b[39mself\u001b[39;49m\u001b[39m.\u001b[39;49mfp\u001b[39m.\u001b[39;49mreadline(_MAXLINE \u001b[39m+\u001b[39;49m \u001b[39m1\u001b[39;49m), \u001b[39m\"\u001b[39m\u001b[39miso-8859-1\u001b[39m\u001b[39m\"\u001b[39m)\n\u001b[1;32m    282\u001b[0m     \u001b[39mif\u001b[39;00m \u001b[39mlen\u001b[39m(line) \u001b[39m>\u001b[39m _MAXLINE:\n\u001b[1;32m    283\u001b[0m         \u001b[39mraise\u001b[39;00m LineTooLong(\u001b[39m\"\u001b[39m\u001b[39mstatus line\u001b[39m\u001b[39m\"\u001b[39m)\n",
      "File \u001b[0;32m~/App/anaconda3/lib/python3.9/socket.py:704\u001b[0m, in \u001b[0;36mSocketIO.readinto\u001b[0;34m(self, b)\u001b[0m\n\u001b[1;32m    702\u001b[0m \u001b[39mwhile\u001b[39;00m \u001b[39mTrue\u001b[39;00m:\n\u001b[1;32m    703\u001b[0m     \u001b[39mtry\u001b[39;00m:\n\u001b[0;32m--> 704\u001b[0m         \u001b[39mreturn\u001b[39;00m \u001b[39mself\u001b[39;49m\u001b[39m.\u001b[39;49m_sock\u001b[39m.\u001b[39;49mrecv_into(b)\n\u001b[1;32m    705\u001b[0m     \u001b[39mexcept\u001b[39;00m timeout:\n\u001b[1;32m    706\u001b[0m         \u001b[39mself\u001b[39m\u001b[39m.\u001b[39m_timeout_occurred \u001b[39m=\u001b[39m \u001b[39mTrue\u001b[39;00m\n",
      "\u001b[0;31mKeyboardInterrupt\u001b[0m: "
     ]
    }
   ],
   "source": [
    "file = \"p2-1.filtered\"\n",
    "embeddings = np.memmap(\n",
    "    os.path.join(\"data/encode\", \"DPR\", \"wenshu\", file, \"text_embeddings.mmp\"),\n",
    "    dtype=np.float32,\n",
    "    mode=\"r\"\n",
    ").reshape(-1, 768)\n",
    "\n",
    "def gendata():\n",
    "    with open(f\"../../../Data/wenshu/{file}.txt\", encoding=\"utf-8\") as f:\n",
    "        for i, line in enumerate(f):\n",
    "            case = json.loads(line.strip())\n",
    "            del case[\"crawl_time\"]\n",
    "            del case[\"legal_base\"]\n",
    "            del case[\"tf_content\"]\n",
    "            del case[\"id\"]\n",
    "            case[\"vector\"] = embeddings[i].tolist()\n",
    "            yield case\n",
    "\n",
    "for x in tqdm(gendata(), desc=\"Indexing\", total=embeddings.shape[0]):\n",
    "    elastic.index(index=\"wenshu\", document=x)"
   ]
  },
  {
   "cell_type": "code",
   "execution_count": 32,
   "metadata": {},
   "outputs": [
    {
     "name": "stdout",
     "output_type": "stream",
     "text": [
      "{\"id\": \"4\", \"doc_id\": \"dd582a41-065d-44af-b86a-c5e\n",
      "{\"id\": \"1784033\", \"doc_id\": \"424e5b83-2c86-49d5-9d\n"
     ]
    }
   ],
   "source": [
    "with open(\"/home/peitian_zhang/Data/wenshu/p2-1.txt\") as f:\n",
    "    for i,x in enumerate(f):\n",
    "        if i == 0:\n",
    "            print(x[:50])\n",
    "        if i == 100001:\n",
    "            print(x[:50])\n",
    "            break"
   ]
  },
  {
   "cell_type": "code",
   "execution_count": 33,
   "metadata": {},
   "outputs": [
    {
     "name": "stdout",
     "output_type": "stream",
     "text": [
      "{\"id\": \"1784033\", \"doc_id\": \"424e5b83-2c86-49d5-9d\n"
     ]
    }
   ],
   "source": [
    "with open(\"/home/peitian_zhang/Data/wenshu/p2-1.filtered.txt\") as f:\n",
    "    for i,x in enumerate(f):\n",
    "        if i == 0:\n",
    "            print(x[:50])"
   ]
  },
  {
   "cell_type": "code",
   "execution_count": 9,
   "metadata": {},
   "outputs": [
    {
     "data": {
      "text/plain": [
       "ObjectApiResponse({'acknowledged': True, 'shards_acknowledged': True, 'index': 'wenshu'})"
      ]
     },
     "execution_count": 9,
     "metadata": {},
     "output_type": "execute_result"
    }
   ],
   "source": [
    "elastic.indices.create(\n",
    "    index=\"wenshu\",\n",
    "    settings={\n",
    "        'analysis': {\n",
    "            'analyzer': {\n",
    "                # we must set the default analyzer\n",
    "                \"default\": {\n",
    "                    \"type\": \"smartcn\"\n",
    "                }\n",
    "            }\n",
    "        },\n",
    "        \"index.mapping.ignore_malformed\": True\n",
    "    },\n",
    "    mappings={\n",
    "        \"properties\": {\n",
    "            # field name\n",
    "            \"doc_id\": {\n",
    "                \"type\": \"keyword\",\n",
    "            },\n",
    "            \"court_name\": {\n",
    "                \"type\": \"keyword\",\n",
    "            },\n",
    "            \"court_id\": {\n",
    "                \"type\": \"keyword\",\n",
    "            },\n",
    "            \"court_province\": {\n",
    "                \"type\": \"keyword\",\n",
    "            },\n",
    "            \"court_city\": {\n",
    "                \"type\": \"keyword\",\n",
    "            },\n",
    "            \"court_region\": {\n",
    "                \"type\": \"keyword\",\n",
    "            },\n",
    "            \"court_district\": {\n",
    "                \"type\": \"keyword\"\n",
    "            },\n",
    "            \"pub_prosecution_org\": {\n",
    "                \"type\": \"keyword\"\n",
    "            },\n",
    "            \"case_type\": {\n",
    "                \"type\": \"keyword\",\n",
    "            },\n",
    "            \"cause\": {\n",
    "                \"type\": \"keyword\",\n",
    "            },\n",
    "            \"trial_round\": {\n",
    "                \"type\": \"keyword\"\n",
    "            },\n",
    "            \"content\": {\n",
    "                \"type\": \"text\"\n",
    "            },\n",
    "            \"vector\": {\n",
    "                \"type\": \"dense_vector\",\n",
    "                \"dims\": 768,\n",
    "                # enable hnsw\n",
    "                \"index\": True,\n",
    "                # inner product only allows unit-length vector\n",
    "                \"similarity\": \"dot_product\"  \n",
    "            }\n",
    "        }\n",
    "    }\n",
    ")"
   ]
  },
  {
   "cell_type": "code",
   "execution_count": null,
   "metadata": {},
   "outputs": [],
   "source": [
    "# test chinese index\n",
    "elastic.indices.analyze(index=\"test-chinese\", text=\"中国人民大学\")"
   ]
  },
  {
   "cell_type": "code",
   "execution_count": 8,
   "metadata": {},
   "outputs": [
    {
     "data": {
      "text/plain": [
       "ObjectApiResponse({'acknowledged': True})"
      ]
     },
     "execution_count": 8,
     "metadata": {},
     "output_type": "execute_result"
    }
   ],
   "source": [
    "# delete index\n",
    "elastic.indices.delete(index=\"wenshu\")"
   ]
  },
  {
   "cell_type": "code",
   "execution_count": null,
   "metadata": {},
   "outputs": [],
   "source": [
    "elastic.indices.get_alias(index=\"*\")"
   ]
  },
  {
   "cell_type": "code",
   "execution_count": null,
   "metadata": {},
   "outputs": [],
   "source": [
    "elastic.search(\n",
    "    index=\"test-wenshu\",\n",
    "    query={\n",
    "        \"match_all\": {}\n",
    "    }\n",
    ")[\"hits\"][\"hits\"]"
   ]
  },
  {
   "cell_type": "code",
   "execution_count": null,
   "metadata": {},
   "outputs": [],
   "source": [
    "elastic.delete_by_query(\n",
    "    index=\"wenshu\", \n",
    "    query={\n",
    "        \"match_all\": {}\n",
    "    }\n",
    ")"
   ]
  },
  {
   "cell_type": "code",
   "execution_count": 27,
   "metadata": {},
   "outputs": [
    {
     "name": "stderr",
     "output_type": "stream",
     "text": [
      "1000002it [01:50, 9034.40it/s]\n"
     ]
    },
    {
     "data": {
      "text/plain": [
       "394472"
      ]
     },
     "execution_count": 27,
     "metadata": {},
     "output_type": "execute_result"
    }
   ],
   "source": [
    "# filter text\n",
    "skipped = 0\n",
    "file = \"p2-1\"\n",
    "with open(f\"../../../Data/wenshu/{file}.txt\", encoding=\"utf-8\") as f, open(f\"../../../Data/wenshu/{file}.filtered.txt\", \"w\", encoding=\"utf-8\") as g:\n",
    "    for i, line in enumerate(tqdm(f)):\n",
    "        if i <= 100000:\n",
    "            continue\n",
    "\n",
    "        fields = json.loads(line.strip())\n",
    "\n",
    "        if fields[\"basics_text\"]:\n",
    "            content = fields[\"basics_text\"].replace(\"/n\", \"\")\n",
    "        else:\n",
    "            content = fields[\"content\"]\n",
    "            if not content:\n",
    "                skipped += 1\n",
    "                continue\n",
    "            else:\n",
    "                content = content.replace(\"\\n\", \"\")\n",
    "                for x in (\"指控：\", \"经审理查明，\", \"诉称：\", \"诉讼请求：\", \"理由：\"):\n",
    "                    idx = content.rfind(x)\n",
    "                    if idx != -1:\n",
    "                        break\n",
    "                if idx == -1:\n",
    "                    skipped += 1\n",
    "                    # print(content)\n",
    "                    # if skipped > 5:\n",
    "                    #     break\n",
    "                    continue\n",
    "                else:\n",
    "                    content = content[idx:]\n",
    "        # write filter content to a new file\n",
    "        fields[\"tf_content\"] = content\n",
    "        g.write(json.dumps(fields, ensure_ascii=False) + \"\\n\")\n",
    "\n",
    "        if i > 1000000:\n",
    "            break\n",
    "skipped"
   ]
  },
  {
   "cell_type": "code",
   "execution_count": 21,
   "metadata": {},
   "outputs": [
    {
     "data": {
      "text/plain": [
       "{'value': 10000, 'relation': 'gte'}"
      ]
     },
     "execution_count": 21,
     "metadata": {},
     "output_type": "execute_result"
    }
   ],
   "source": [
    "elastic.search(\n",
    "    index=\"wenshu\",\n",
    "    query={\n",
    "        \"match_all\": {\n",
    "        }\n",
    "    }\n",
    ")[\"hits\"][\"total\"]"
   ]
  },
  {
   "cell_type": "code",
   "execution_count": 22,
   "metadata": {},
   "outputs": [
    {
     "data": {
      "text/plain": [
       "ObjectApiResponse({'count': 53794, '_shards': {'total': 1, 'successful': 1, 'skipped': 0, 'failed': 0}})"
      ]
     },
     "execution_count": 22,
     "metadata": {},
     "output_type": "execute_result"
    }
   ],
   "source": [
    "elastic.count(\n",
    "    index=\"wenshu\",\n",
    "    query={\n",
    "        \"match_all\": {\n",
    "        }\n",
    "    }\n",
    ")"
   ]
  }
 ],
 "metadata": {
  "kernelspec": {
   "display_name": "Python 3.9.12 ('base')",
   "language": "python",
   "name": "python3"
  },
  "language_info": {
   "codemirror_mode": {
    "name": "ipython",
    "version": 3
   },
   "file_extension": ".py",
   "mimetype": "text/x-python",
   "name": "python",
   "nbconvert_exporter": "python",
   "pygments_lexer": "ipython3",
   "version": "3.9.12"
  },
  "orig_nbformat": 4,
  "vscode": {
   "interpreter": {
    "hash": "d04ced9d2f3d780184266d6c04c38b10d0bc5dc91923fa3055e4cade559214a7"
   }
  }
 },
 "nbformat": 4,
 "nbformat_minor": 2
}
