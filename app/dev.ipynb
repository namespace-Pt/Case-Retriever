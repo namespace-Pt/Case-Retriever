{
 "cells": [
  {
   "cell_type": "code",
   "execution_count": 1,
   "metadata": {},
   "outputs": [],
   "source": [
    "from elasticsearch import Elasticsearch"
   ]
  },
  {
   "cell_type": "code",
   "execution_count": 2,
   "metadata": {},
   "outputs": [
    {
     "data": {
      "text/plain": [
       "ObjectApiResponse({'name': 'LAPTOP-Q7SNUCG2', 'cluster_name': 'elasticsearch', 'cluster_uuid': 'yhlAun-SQlmUfzFTFaRwIg', 'version': {'number': '8.3.2', 'build_type': 'zip', 'build_hash': '8b0b1f23fbebecc3c88e4464319dea8989f374fd', 'build_date': '2022-07-06T15:15:15.901688194Z', 'build_snapshot': False, 'lucene_version': '9.2.0', 'minimum_wire_compatibility_version': '7.17.0', 'minimum_index_compatibility_version': '7.0.0'}, 'tagline': 'You Know, for Search'})"
      ]
     },
     "execution_count": 2,
     "metadata": {},
     "output_type": "execute_result"
    }
   ],
   "source": [
    "# Create the client instance\n",
    "client = Elasticsearch(\n",
    "    \"http://localhost:9200\"\n",
    ")\n",
    "\n",
    "# Successful response!\n",
    "client.info()"
   ]
  },
  {
   "cell_type": "code",
   "execution_count": 18,
   "metadata": {},
   "outputs": [
    {
     "data": {
      "text/plain": [
       "ObjectApiResponse({'acknowledged': True, 'shards_acknowledged': True, 'index': 'test-chinese'})"
      ]
     },
     "execution_count": 18,
     "metadata": {},
     "output_type": "execute_result"
    }
   ],
   "source": [
    "client.indices.create(\n",
    "    index=\"test-chinese\", \n",
    "    settings={\n",
    "        'analysis': {\n",
    "            'analyzer': {\n",
    "                # we must set the default analyzer\n",
    "                \"default\": {\n",
    "                    \"type\": \"smartcn\"\n",
    "                }\n",
    "            }\n",
    "        }\n",
    "    }\n",
    ")"
   ]
  },
  {
   "cell_type": "code",
   "execution_count": 17,
   "metadata": {},
   "outputs": [
    {
     "data": {
      "text/plain": [
       "ObjectApiResponse({'acknowledged': True})"
      ]
     },
     "execution_count": 17,
     "metadata": {},
     "output_type": "execute_result"
    }
   ],
   "source": [
    "client.indices.delete(index=\"test-chinese\")"
   ]
  },
  {
   "cell_type": "code",
   "execution_count": 19,
   "metadata": {},
   "outputs": [
    {
     "data": {
      "text/plain": [
       "ObjectApiResponse({'tokens': [{'token': '中国', 'start_offset': 0, 'end_offset': 2, 'type': 'word', 'position': 0}, {'token': '人民', 'start_offset': 2, 'end_offset': 4, 'type': 'word', 'position': 1}, {'token': '大学', 'start_offset': 4, 'end_offset': 6, 'type': 'word', 'position': 2}]})"
      ]
     },
     "execution_count": 19,
     "metadata": {},
     "output_type": "execute_result"
    }
   ],
   "source": [
    "client.indices.analyze(index=\"test-chinese\", text=\"中国人民大学\")"
   ]
  },
  {
   "cell_type": "code",
   "execution_count": 17,
   "metadata": {},
   "outputs": [
    {
     "data": {
      "text/plain": [
       "ObjectApiResponse({'took': 1, 'timed_out': False, '_shards': {'total': 1, 'successful': 1, 'skipped': 0, 'failed': 0}, 'hits': {'total': {'value': 1, 'relation': 'eq'}, 'max_score': 2.7395916, 'hits': [{'_index': 'test-english', '_id': '3-yg8IEBv82c98Tz6i_f', '_score': 2.7395916, '_source': {'title': 'this is the One title', 'abstract': 'this is the One abstract', 'body': 'this is the One body'}, 'highlight': {'abstract': [\"this is the <em class='text-primary'>One</em> abstract\"], 'title': [\"this is the <em class='text-primary'>One</em> title\"]}}]}})"
      ]
     },
     "execution_count": 17,
     "metadata": {},
     "output_type": "execute_result"
    }
   ],
   "source": [
    "client.search(\n",
    "    index=\"test-english\", \n",
    "    query={\n",
    "        \"combined_fields\": {\n",
    "            \"query\": \"one\",\n",
    "            \"fields\": [\"title\", \"abstract\"],\n",
    "        }\n",
    "    },\n",
    "    highlight={\n",
    "        \"fields\": {\n",
    "            \"title\": {\n",
    "                \"pre_tags\" : [\"<em class='text-primary'>\"],\n",
    "                \"post_tags\": [\"</em>\"]\n",
    "            },\n",
    "            \"abstract\": {\n",
    "                \"pre_tags\" : [\"<em class='text-primary'>\"],\n",
    "                \"post_tags\": [\"</em>\"]\n",
    "            }\n",
    "        }\n",
    "    }\n",
    ")"
   ]
  },
  {
   "cell_type": "code",
   "execution_count": 5,
   "metadata": {},
   "outputs": [
    {
     "data": {
      "text/plain": [
       "(10, [])"
      ]
     },
     "execution_count": 5,
     "metadata": {},
     "output_type": "execute_result"
    }
   ],
   "source": [
    "from elasticsearch.helpers import bulk\n",
    "def gendata():\n",
    "    num2word = {0: 'Zero', 1: 'One', 2: 'Two', 3: 'Three', 4: 'Four', 5: 'Five', \\\n",
    "            6: 'Six', 7: 'Seven', 8: 'Eight', 9: 'Nine', 10: 'Ten', \\\n",
    "            11: 'Eleven', 12: 'Twelve', 13: 'Thirteen', 14: 'Fourteen', \\\n",
    "            15: 'Fifteen', 16: 'Sixteen', 17: 'Seventeen', 18: 'Eighteen', 19: 'Nineteen'}\n",
    "\n",
    "    for i in range(10):\n",
    "        yield {\n",
    "            \"_index\": \"test-english\",\n",
    "            \"title\": f\"this is the {num2word[i]} title\",\n",
    "            \"abstract\": f\"this is the {num2word[i]} abstract\",\n",
    "            \"body\": f\"this is the {num2word[i]} body\"\n",
    "        }\n",
    "\n",
    "bulk(client, gendata())"
   ]
  },
  {
   "cell_type": "code",
   "execution_count": 20,
   "metadata": {},
   "outputs": [
    {
     "data": {
      "text/plain": [
       "(6, [])"
      ]
     },
     "execution_count": 20,
     "metadata": {},
     "output_type": "execute_result"
    }
   ],
   "source": [
    "from elasticsearch.helpers import bulk\n",
    "def gendata():\n",
    "    num2word = {0: '零', 1: '一', 2: '二', 3: '三', 4: '四', 5: '五', \\\n",
    "            6: 'Six', 7: 'Seven', 8: 'Eight', 9: 'Nine', 10: 'Ten', \\\n",
    "            11: 'Eleven', 12: 'Twelve', 13: 'Thirteen', 14: 'Fourteen', \\\n",
    "            15: 'Fifteen', 16: 'Sixteen', 17: 'Seventeen', 18: 'Eighteen', 19: 'Nineteen'}\n",
    "\n",
    "    for i in range(6):\n",
    "        yield {\n",
    "            \"_index\": \"test-chinese\",\n",
    "            \"title\": f\"这是第{num2word[i]}篇文章的标题\",\n",
    "            \"abstract\": f\"这是第{num2word[i]}篇文章的摘要\",\n",
    "            \"body\": f\"这是第{num2word[i]}篇文章的正文\"\n",
    "        }\n",
    "\n",
    "bulk(client, gendata())"
   ]
  }
 ],
 "metadata": {
  "interpreter": {
   "hash": "a886b9c141576f6c7cf531afa0e6aa58f696a9dee522d7789e497ec68e3696d2"
  },
  "kernelspec": {
   "display_name": "Python 3.9.7 ('web')",
   "language": "python",
   "name": "python3"
  },
  "language_info": {
   "codemirror_mode": {
    "name": "ipython",
    "version": 3
   },
   "file_extension": ".py",
   "mimetype": "text/x-python",
   "name": "python",
   "nbconvert_exporter": "python",
   "pygments_lexer": "ipython3",
   "version": "3.9.7"
  },
  "orig_nbformat": 4
 },
 "nbformat": 4,
 "nbformat_minor": 2
}
